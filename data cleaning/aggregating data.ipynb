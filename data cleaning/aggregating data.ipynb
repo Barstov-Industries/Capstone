{
 "cells": [
  {
   "cell_type": "code",
   "execution_count": null,
   "metadata": {},
   "outputs": [],
   "source": [
    "import pandas as pd\n",
    "barstov = pd.read_csv('./Capstone Project/Data/barstov_merged.csv', sep=\",\")"
   ]
  },
  {
   "cell_type": "code",
   "execution_count": 20,
   "metadata": {},
   "outputs": [
    {
     "data": {
      "text/plain": [
       "1346520"
      ]
     },
     "execution_count": 20,
     "metadata": {},
     "output_type": "execute_result"
    }
   ],
   "source": [
    "barstov.customer_id.nunique()"
   ]
  },
  {
   "cell_type": "code",
   "execution_count": 21,
   "metadata": {},
   "outputs": [
    {
     "data": {
      "text/plain": [
       "104513"
      ]
     },
     "execution_count": 21,
     "metadata": {},
     "output_type": "execute_result"
    }
   ],
   "source": [
    "barstov.article_id.nunique()"
   ]
  },
  {
   "cell_type": "code",
   "execution_count": 27,
   "metadata": {},
   "outputs": [
    {
     "data": {
      "text/plain": [
       "np.int64(28682331)"
      ]
     },
     "execution_count": 27,
     "metadata": {},
     "output_type": "execute_result"
    }
   ],
   "source": [
    "barstov.article_id.count()"
   ]
  },
  {
   "cell_type": "code",
   "execution_count": 34,
   "metadata": {},
   "outputs": [
    {
     "data": {
      "text/plain": [
       "np.int64(28682331)"
      ]
     },
     "execution_count": 34,
     "metadata": {},
     "output_type": "execute_result"
    }
   ],
   "source": [
    "model_data_week.total_units_sold.sum()"
   ]
  },
  {
   "cell_type": "code",
   "execution_count": 6,
   "metadata": {},
   "outputs": [
    {
     "name": "stdout",
     "output_type": "stream",
     "text": [
      "        product_type_no product_type_name  colour_group_code  \\\n",
      "0                    -1           Unknown                  6   \n",
      "1                    -1           Unknown                  6   \n",
      "2                    -1           Unknown                  6   \n",
      "3                    -1           Unknown                  6   \n",
      "4                    -1           Unknown                  6   \n",
      "...                 ...               ...                ...   \n",
      "172972              762       Zipper head                  9   \n",
      "172973              762       Zipper head                  9   \n",
      "172974              762       Zipper head                  9   \n",
      "172975              762       Zipper head                  9   \n",
      "172976              762       Zipper head                  9   \n",
      "\n",
      "       colour_group_name       week  average_price  total_units_sold  \\\n",
      "0             Light Grey 2019-03-25       0.033529               174   \n",
      "1             Light Grey 2019-04-01       0.031347               236   \n",
      "2             Light Grey 2019-04-08       0.033345                93   \n",
      "3             Light Grey 2019-04-15       0.032567                78   \n",
      "4             Light Grey 2019-04-22       0.032713                48   \n",
      "...                  ...        ...            ...               ...   \n",
      "172972             Black 2020-05-25       0.012271                 1   \n",
      "172973             Black 2020-06-15       0.004775                14   \n",
      "172974             Black 2020-06-22       0.004829                11   \n",
      "172975             Black 2020-07-27       0.005068                 1   \n",
      "172976             Black 2020-09-07       0.005068                 1   \n",
      "\n",
      "        unique_customers  \n",
      "0                    173  \n",
      "1                    230  \n",
      "2                     92  \n",
      "3                     74  \n",
      "4                     46  \n",
      "...                  ...  \n",
      "172972                 1  \n",
      "172973                 9  \n",
      "172974                10  \n",
      "172975                 1  \n",
      "172976                 1  \n",
      "\n",
      "[172977 rows x 8 columns]\n"
     ]
    }
   ],
   "source": [
    "import pandas as pd\n",
    "\n",
    "# Step 1: Create `barstov_merged_weekly`\n",
    "barstov['week'] = pd.to_datetime(barstov['t_dat']).dt.to_period('W').dt.start_time  # Truncate to start of week (Monday)\n",
    "barstov_merged_weekly = barstov[[\n",
    "    'product_type_no',\n",
    "    'product_type_name',\n",
    "    'colour_group_code',\n",
    "    'colour_group_name',\n",
    "    'week',\n",
    "    'price',\n",
    "    'article_id',\n",
    "    'customer_id'\n",
    "]].copy()\n",
    "\n",
    "# Step 2: Create indexes (optional in pandas)\n",
    "# pandas does not have database-style indexing, but you can sort by these columns for performance\n",
    "barstov_merged_weekly.sort_values(by=['product_type_no', 'colour_group_code', 'week'], inplace=True)\n",
    "\n",
    "# Step 3: Aggregate data into `model_data_week`\n",
    "model_data_week = barstov_merged_weekly.groupby(\n",
    "    ['product_type_no', 'product_type_name', 'colour_group_code', 'colour_group_name', 'week']\n",
    ").agg(\n",
    "    average_price=('price', 'mean'),\n",
    "    total_units_sold=('article_id', 'count'),\n",
    "    unique_customers=('customer_id', 'nunique')\n",
    ").reset_index()\n",
    "\n",
    "# Optional: Display the result\n",
    "print(model_data_week)\n"
   ]
  },
  {
   "cell_type": "code",
   "execution_count": 9,
   "metadata": {},
   "outputs": [],
   "source": [
    "model_data_week.to_csv('model_data_week_correct.csv')"
   ]
  },
  {
   "cell_type": "code",
   "execution_count": 8,
   "metadata": {},
   "outputs": [
    {
     "data": {
      "text/plain": [
       "np.int64(28682331)"
      ]
     },
     "execution_count": 8,
     "metadata": {},
     "output_type": "execute_result"
    }
   ],
   "source": [
    "model_data_week['total_units_sold'].sum()"
   ]
  },
  {
   "cell_type": "code",
   "execution_count": 5,
   "metadata": {},
   "outputs": [
    {
     "name": "stdout",
     "output_type": "stream",
     "text": [
      "         article_id  product_type_no product_type_name  product_group_name  \\\n",
      "0         108775015              253          Vest top  Garment Upper body   \n",
      "1         108775015              253          Vest top  Garment Upper body   \n",
      "2         108775015              253          Vest top  Garment Upper body   \n",
      "3         108775015              253          Vest top  Garment Upper body   \n",
      "4         108775015              253          Vest top  Garment Upper body   \n",
      "...             ...              ...               ...                 ...   \n",
      "2423206   953763001              253          Vest top  Garment Upper body   \n",
      "2423207   953763001              253          Vest top  Garment Upper body   \n",
      "2423208   956217002              265             Dress   Garment Full body   \n",
      "2423209   956217002              265             Dress   Garment Full body   \n",
      "2423210   956217002              265             Dress   Garment Full body   \n",
      "\n",
      "         colour_group_code colour_group_name index_code  index_name  \\\n",
      "0                        9             Black          A  Ladieswear   \n",
      "1                        9             Black          A  Ladieswear   \n",
      "2                        9             Black          A  Ladieswear   \n",
      "3                        9             Black          A  Ladieswear   \n",
      "4                        9             Black          A  Ladieswear   \n",
      "...                    ...               ...        ...         ...   \n",
      "2423206                  9             Black          A  Ladieswear   \n",
      "2423207                  9             Black          A  Ladieswear   \n",
      "2423208                  9             Black          A  Ladieswear   \n",
      "2423209                  9             Black          A  Ladieswear   \n",
      "2423210                  9             Black          A  Ladieswear   \n",
      "\n",
      "                   section_name  garment_group_no  unique_customers  \\\n",
      "0        Womens Everyday Basics              1002              6828   \n",
      "1        Womens Everyday Basics              1002              6828   \n",
      "2        Womens Everyday Basics              1002              6828   \n",
      "3        Womens Everyday Basics              1002              6828   \n",
      "4        Womens Everyday Basics              1002              6828   \n",
      "...                         ...               ...               ...   \n",
      "2423206                    H&M+              1005                22   \n",
      "2423207                    H&M+              1005                22   \n",
      "2423208            Womens Trend              1005                17   \n",
      "2423209            Womens Trend              1005                17   \n",
      "2423210            Womens Trend              1005                17   \n",
      "\n",
      "         total_sales  average_price      month       week  units_sold  \\\n",
      "0          60.603627       0.008109 2018-09-01 2018-09-17          80   \n",
      "1          60.603627       0.008109 2018-09-01 2018-09-24         390   \n",
      "2          60.603627       0.008109 2018-10-01 2018-10-01         236   \n",
      "3          60.603627       0.008109 2018-10-01 2018-10-08         268   \n",
      "4          60.603627       0.008109 2018-10-01 2018-10-15         191   \n",
      "...              ...            ...        ...        ...         ...   \n",
      "2423206     0.502576       0.021851 2020-09-01 2020-09-14          15   \n",
      "2423207     0.502576       0.021851 2020-09-01 2020-09-21           5   \n",
      "2423208     1.123576       0.059136 2020-09-01 2020-09-07           9   \n",
      "2423209     1.123576       0.059136 2020-09-01 2020-09-14           7   \n",
      "2423210     1.123576       0.059136 2020-09-01 2020-09-21           3   \n",
      "\n",
      "         avg_customer_age                                        postal_code  \n",
      "0               34.316296  e15819a7b5a739bde5002a217d27e049695afb433924ce...  \n",
      "1               34.316296  e15819a7b5a739bde5002a217d27e049695afb433924ce...  \n",
      "2               34.316296  e15819a7b5a739bde5002a217d27e049695afb433924ce...  \n",
      "3               34.316296  e15819a7b5a739bde5002a217d27e049695afb433924ce...  \n",
      "4               34.316296  e15819a7b5a739bde5002a217d27e049695afb433924ce...  \n",
      "...                   ...                                                ...  \n",
      "2423206         36.130435  f607d1a0664a6846e5085418768c9ab8c339d6b6e032e9...  \n",
      "2423207         36.130435  f607d1a0664a6846e5085418768c9ab8c339d6b6e032e9...  \n",
      "2423208         48.000000  dae4feb79552d2e94b710687b2b3eeef900c639586e82d...  \n",
      "2423209         48.000000  dae4feb79552d2e94b710687b2b3eeef900c639586e82d...  \n",
      "2423210         48.000000  dae4feb79552d2e94b710687b2b3eeef900c639586e82d...  \n",
      "\n",
      "[2423211 rows x 18 columns]\n"
     ]
    }
   ],
   "source": [
    "import pandas as pd\n",
    "import numpy as np\n",
    "\n",
    "# Step 1: Basic aggregation to create the product_analysis DataFrame\n",
    "product_analysis = (\n",
    "    barstov.groupby([\n",
    "        'article_id', 'product_type_no', 'product_type_name', 'product_group_name',\n",
    "        'colour_group_code', 'colour_group_name', 'index_code', 'index_name',\n",
    "        'section_name', 'garment_group_no'\n",
    "    ])\n",
    "    .agg(\n",
    "        unique_customers=('customer_id', 'nunique'),  # Unique customers per product\n",
    "        total_sales=('price', 'sum'),                # Total sales amount for each product\n",
    "        average_price=('price', 'mean')              # Average price per product\n",
    "    )\n",
    "    .reset_index()\n",
    ")\n",
    "\n",
    "# Step 2: Add month, week, and units_sold columns\n",
    "# Extract month and week from the original barstov DataFrame\n",
    "barstov['month'] = pd.to_datetime(barstov['t_dat']).dt.to_period('M').dt.start_time\n",
    "barstov['week'] = pd.to_datetime(barstov['t_dat']).dt.to_period('W').dt.start_time\n",
    "\n",
    "# Aggregating units_sold for each article_id\n",
    "aggregated_data = (\n",
    "    barstov.groupby(['article_id', 'month', 'week'])\n",
    "    .size()  # Count occurrences (units sold)\n",
    "    .reset_index(name='units_sold')\n",
    ")\n",
    "\n",
    "# Merge aggregated data into product_analysis\n",
    "product_analysis = product_analysis.merge(\n",
    "    aggregated_data[['article_id', 'month', 'week', 'units_sold']],\n",
    "    on='article_id',\n",
    "    how='left'\n",
    ")\n",
    "\n",
    "# Step 3: Calculate and update average customer age\n",
    "avg_customer_age = (\n",
    "    barstov.groupby('article_id')\n",
    "    .agg(avg_customer_age=('age', 'mean'))  # Average customer age per article_id\n",
    "    .reset_index()\n",
    ")\n",
    "\n",
    "# Merge average customer age into product_analysis\n",
    "product_analysis = product_analysis.merge(\n",
    "    avg_customer_age,\n",
    "    on='article_id',\n",
    "    how='left'\n",
    ")\n",
    "\n",
    "# Step 4: Update postal code for each article, ensuring uniqueness\n",
    "postal_code_data = (\n",
    "    barstov.groupby('article_id')\n",
    "    .agg(postal_code=('postal_code', 'first'))  # Assuming one postal code per article\n",
    "    .reset_index()\n",
    ")\n",
    "\n",
    "# Merge postal code data into product_analysis\n",
    "product_analysis = product_analysis.merge(\n",
    "    postal_code_data,\n",
    "    on='article_id',\n",
    "    how='left'\n",
    ")\n",
    "\n",
    "# Optional: Fill NaN values if needed\n",
    "product_analysis.fillna({'units_sold': 0, 'avg_customer_age': np.nan, 'postal_code': 'Unknown'}, inplace=True)\n",
    "product_analysis.to_csv('product_analysis_correct.csv')\n",
    "\n",
    "# Output the resulting product_analysis DataFrame\n",
    "print(product_analysis)\n"
   ]
  },
  {
   "cell_type": "code",
   "execution_count": 36,
   "metadata": {},
   "outputs": [
    {
     "data": {
      "text/plain": [
       "104513"
      ]
     },
     "execution_count": 36,
     "metadata": {},
     "output_type": "execute_result"
    }
   ],
   "source": [
    "product_analysis.article_id.nunique()"
   ]
  },
  {
   "cell_type": "code",
   "execution_count": 38,
   "metadata": {},
   "outputs": [
    {
     "data": {
      "text/plain": [
       "np.int64(28682331)"
      ]
     },
     "execution_count": 38,
     "metadata": {},
     "output_type": "execute_result"
    }
   ],
   "source": [
    "product_analysis.units_sold.sum()"
   ]
  },
  {
   "cell_type": "code",
   "execution_count": 37,
   "metadata": {},
   "outputs": [
    {
     "data": {
      "text/html": [
       "<div>\n",
       "<style scoped>\n",
       "    .dataframe tbody tr th:only-of-type {\n",
       "        vertical-align: middle;\n",
       "    }\n",
       "\n",
       "    .dataframe tbody tr th {\n",
       "        vertical-align: top;\n",
       "    }\n",
       "\n",
       "    .dataframe thead th {\n",
       "        text-align: right;\n",
       "    }\n",
       "</style>\n",
       "<table border=\"1\" class=\"dataframe\">\n",
       "  <thead>\n",
       "    <tr style=\"text-align: right;\">\n",
       "      <th></th>\n",
       "      <th>article_id</th>\n",
       "      <th>product_type_no</th>\n",
       "      <th>product_type_name</th>\n",
       "      <th>product_group_name</th>\n",
       "      <th>colour_group_code</th>\n",
       "      <th>colour_group_name</th>\n",
       "      <th>index_code</th>\n",
       "      <th>index_name</th>\n",
       "      <th>section_name</th>\n",
       "      <th>garment_group_no</th>\n",
       "      <th>unique_customers</th>\n",
       "      <th>total_sales</th>\n",
       "      <th>average_price</th>\n",
       "      <th>month</th>\n",
       "      <th>week</th>\n",
       "      <th>units_sold</th>\n",
       "      <th>avg_customer_age</th>\n",
       "      <th>postal_code</th>\n",
       "    </tr>\n",
       "  </thead>\n",
       "  <tbody>\n",
       "    <tr>\n",
       "      <th>0</th>\n",
       "      <td>108775015</td>\n",
       "      <td>253</td>\n",
       "      <td>Vest top</td>\n",
       "      <td>Garment Upper body</td>\n",
       "      <td>9</td>\n",
       "      <td>Black</td>\n",
       "      <td>A</td>\n",
       "      <td>Ladieswear</td>\n",
       "      <td>Womens Everyday Basics</td>\n",
       "      <td>1002</td>\n",
       "      <td>6828</td>\n",
       "      <td>60.603627</td>\n",
       "      <td>0.008109</td>\n",
       "      <td>2018-09-01</td>\n",
       "      <td>2018-09-17</td>\n",
       "      <td>80</td>\n",
       "      <td>34.316296</td>\n",
       "      <td>e15819a7b5a739bde5002a217d27e049695afb433924ce...</td>\n",
       "    </tr>\n",
       "  </tbody>\n",
       "</table>\n",
       "</div>"
      ],
      "text/plain": [
       "   article_id  product_type_no product_type_name  product_group_name  \\\n",
       "0   108775015              253          Vest top  Garment Upper body   \n",
       "\n",
       "   colour_group_code colour_group_name index_code  index_name  \\\n",
       "0                  9             Black          A  Ladieswear   \n",
       "\n",
       "             section_name  garment_group_no  unique_customers  total_sales  \\\n",
       "0  Womens Everyday Basics              1002              6828    60.603627   \n",
       "\n",
       "   average_price      month       week  units_sold  avg_customer_age  \\\n",
       "0       0.008109 2018-09-01 2018-09-17          80         34.316296   \n",
       "\n",
       "                                         postal_code  \n",
       "0  e15819a7b5a739bde5002a217d27e049695afb433924ce...  "
      ]
     },
     "execution_count": 37,
     "metadata": {},
     "output_type": "execute_result"
    }
   ],
   "source": [
    "product_analysis.head(1)"
   ]
  },
  {
   "cell_type": "code",
   "execution_count": 39,
   "metadata": {},
   "outputs": [
    {
     "name": "stderr",
     "output_type": "stream",
     "text": [
      "/var/folders/l3/pzl6kjvx22n0xsd0hgp_xz_m0000gn/T/ipykernel_72794/781049213.py:47: FutureWarning: A value is trying to be set on a copy of a DataFrame or Series through chained assignment using an inplace method.\n",
      "The behavior will change in pandas 3.0. This inplace method will never work because the intermediate object on which we are setting values always behaves as a copy.\n",
      "\n",
      "For example, when doing 'df[col].method(value, inplace=True)', try using 'df.method({col: value}, inplace=True)' or df[col] = df[col].method(value) instead, to perform the operation inplace on the original object.\n",
      "\n",
      "\n",
      "  seasonality_analysis['postal_code'].fillna('Unknown', inplace=True)\n"
     ]
    },
    {
     "name": "stdout",
     "output_type": "stream",
     "text": [
      "          sale_date  day  week      month  article_id product_type_name  \\\n",
      "0        2018-09-20   20    38 2018-09-01   108775015          Vest top   \n",
      "7668     2018-09-20   20    38 2018-09-01   636392002               Bra   \n",
      "7669     2018-09-20   20    38 2018-09-01   636407001          Vest top   \n",
      "7670     2018-09-20   20    38 2018-09-01   636407002          Vest top   \n",
      "7671     2018-09-20   20    38 2018-09-01   636418001             Skirt   \n",
      "...             ...  ...   ...        ...         ...               ...   \n",
      "7420457  2020-09-22   22    39 2020-09-01   796556003           T-shirt   \n",
      "7420456  2020-09-22   22    39 2020-09-01   796454005               Bra   \n",
      "7420455  2020-09-22   22    39 2020-09-01   796241001             Dress   \n",
      "7420468  2020-09-22   22    39 2020-09-01   797529001  Underwear bottom   \n",
      "7425766  2020-09-22   22    39 2020-09-01   953763001          Vest top   \n",
      "\n",
      "         product_group_name  total_sales  total_orders  average_price season  \\\n",
      "0        Garment Upper body     0.177220            21       0.008439   Fall   \n",
      "7668              Underwear     0.047390             4       0.011847   Fall   \n",
      "7669     Garment Upper body     0.169424             4       0.042356   Fall   \n",
      "7670     Garment Upper body     0.042356             1       0.042356   Fall   \n",
      "7671     Garment Lower body     0.081322             2       0.040661   Fall   \n",
      "...                     ...          ...           ...            ...    ...   \n",
      "7420457  Garment Upper body     0.012492             1       0.012492   Fall   \n",
      "7420456           Underwear     0.163068             4       0.040767   Fall   \n",
      "7420455   Garment Full body     0.048644             1       0.048644   Fall   \n",
      "7420468           Underwear     0.005068             1       0.005068   Fall   \n",
      "7425766  Garment Upper body     0.022017             1       0.022017   Fall   \n",
      "\n",
      "        customer_id postal_code  \n",
      "0              None     Unknown  \n",
      "7668           None     Unknown  \n",
      "7669           None     Unknown  \n",
      "7670           None     Unknown  \n",
      "7671           None     Unknown  \n",
      "...             ...         ...  \n",
      "7420457        None     Unknown  \n",
      "7420456        None     Unknown  \n",
      "7420455        None     Unknown  \n",
      "7420468        None     Unknown  \n",
      "7425766        None     Unknown  \n",
      "\n",
      "[7425767 rows x 13 columns]\n"
     ]
    }
   ],
   "source": [
    "import pandas as pd\n",
    "\n",
    "# Step 1: Create the seasonality_analysis DataFrame with basic aggregation\n",
    "barstov['sale_date'] = pd.to_datetime(barstov['t_dat']).dt.date  # Convert to date format for daily analysis\n",
    "barstov['day'] = pd.to_datetime(barstov['t_dat']).dt.day         # Extract day\n",
    "barstov['week'] = pd.to_datetime(barstov['t_dat']).dt.isocalendar().week  # Extract week\n",
    "barstov['month'] = pd.to_datetime(barstov['t_dat']).dt.to_period('M').dt.start_time  # Truncate to month\n",
    "\n",
    "seasonality_analysis = (\n",
    "    barstov.groupby([\n",
    "        'sale_date', 'day', 'week', 'month', 'article_id', 'product_type_name', 'product_group_name'\n",
    "    ])\n",
    "    .agg(\n",
    "        total_sales=('price', 'sum'),           # Sum of sales\n",
    "        total_orders=('customer_id', 'count'), # Count of orders\n",
    "        average_price=('price', 'mean')        # Average price\n",
    "    )\n",
    "    .reset_index()\n",
    ")\n",
    "\n",
    "# Step 2: Add and populate the `season` column\n",
    "seasonality_analysis['season'] = seasonality_analysis['month'].dt.month.map(\n",
    "    lambda x: 'Winter' if x in [12, 1, 2] else\n",
    "              'Spring' if x in [3, 4, 5] else\n",
    "              'Summer' if x in [6, 7, 8] else\n",
    "              'Fall'\n",
    ")\n",
    "\n",
    "# Step 3: Add a customer_id column (default value, as not part of initial aggregation)\n",
    "seasonality_analysis['customer_id'] = None  # Placeholder column for now\n",
    "\n",
    "# Step 4: Add postal_code for each customer by merging with aggregated postal code data\n",
    "postal_code_data = (\n",
    "    barstov.groupby('customer_id')\n",
    "    .agg(postal_code=('postal_code', 'first'))  # Assuming one postal code per customer\n",
    "    .reset_index()\n",
    ")\n",
    "\n",
    "# Merge postal code information into seasonality_analysis\n",
    "seasonality_analysis = seasonality_analysis.merge(\n",
    "    barstov[['customer_id', 'postal_code']],\n",
    "    on='customer_id',\n",
    "    how='left'\n",
    ")\n",
    "\n",
    "# Fill missing values for postal_code (if any)\n",
    "seasonality_analysis['postal_code'].fillna('Unknown', inplace=True)\n",
    "\n",
    "# Optional: Sort the DataFrame by sale_date\n",
    "seasonality_analysis.sort_values(by='sale_date', inplace=True)\n",
    "\n",
    "# Display the resulting DataFrame\n",
    "print(seasonality_analysis)\n"
   ]
  },
  {
   "cell_type": "code",
   "execution_count": 40,
   "metadata": {},
   "outputs": [
    {
     "data": {
      "text/plain": [
       "104513"
      ]
     },
     "execution_count": 40,
     "metadata": {},
     "output_type": "execute_result"
    }
   ],
   "source": [
    "seasonality_analysis.article_id.nunique()\n"
   ]
  },
  {
   "cell_type": "code",
   "execution_count": 41,
   "metadata": {},
   "outputs": [
    {
     "data": {
      "text/plain": [
       "np.int64(28682331)"
      ]
     },
     "execution_count": 41,
     "metadata": {},
     "output_type": "execute_result"
    }
   ],
   "source": [
    "seasonality_analysis.total_orders.sum()"
   ]
  },
  {
   "cell_type": "code",
   "execution_count": 10,
   "metadata": {},
   "outputs": [
    {
     "name": "stdout",
     "output_type": "stream",
     "text": [
      "        article_id       week     price  product_type_no  colour_group_code  \\\n",
      "0        118458028 2018-09-17  0.033881              272                  9   \n",
      "1        118458028 2018-09-24  0.010153              272                  9   \n",
      "2        118458028 2018-09-24  0.027102              272                  9   \n",
      "3        118458028 2018-09-24  0.028797              272                  9   \n",
      "4        118458028 2018-09-24  0.033881              272                  9   \n",
      "...            ...        ...       ...              ...                ...   \n",
      "312967   949198001 2020-09-14  0.024814              272                  9   \n",
      "312968   949198001 2020-09-14  0.025407              272                  9   \n",
      "312969   949198001 2020-09-21  0.021593              272                  9   \n",
      "312970   949198001 2020-09-21  0.025220              272                  9   \n",
      "312971   949198001 2020-09-21  0.025407              272                  9   \n",
      "\n",
      "        month  units_sold  average_price  \n",
      "0           9           1       0.338814  \n",
      "1           9           1       0.101525  \n",
      "2           9           1       0.271017  \n",
      "3           9           1       0.287966  \n",
      "4           9           4       0.338814  \n",
      "...       ...         ...            ...  \n",
      "312967      9           1       0.248136  \n",
      "312968      9          56       0.254068  \n",
      "312969      9           1       0.215932  \n",
      "312970      9           1       0.252203  \n",
      "312971      9          35       0.254068  \n",
      "\n",
      "[312972 rows x 8 columns]\n"
     ]
    }
   ],
   "source": [
    "import pandas as pd\n",
    "\n",
    "# Step 1: Filter the DataFrame for black trousers\n",
    "black_trousers = barstov[\n",
    "    (barstov['product_type_name'] == 'Trousers') & \n",
    "    (barstov['colour_group_name'] == 'Black')\n",
    "].copy()\n",
    "\n",
    "# Step 2: Add necessary columns for weekly aggregation and month extraction\n",
    "black_trousers['week'] = pd.to_datetime(black_trousers['t_dat']).dt.to_period('W').dt.start_time  # Truncate to weekly level\n",
    "black_trousers['month'] = pd.to_datetime(black_trousers['t_dat']).dt.month  # Extract the month\n",
    "\n",
    "# Step 3: Perform the aggregation\n",
    "black_trousers_forecast = (\n",
    "    black_trousers.groupby(['article_id', 'week', 'price', 'product_type_no', 'colour_group_code', 'month'])\n",
    "    .agg(\n",
    "        units_sold=('article_id', 'count'),  # Count rows as units sold\n",
    "        average_price=('price', 'mean')     # Average price\n",
    "    )\n",
    "    .reset_index()\n",
    ")\n",
    "\n",
    "# Step 4: Scale the average price by a factor of 10\n",
    "black_trousers_forecast['average_price'] *= 10\n",
    "\n",
    "# Display the resulting DataFrame\n",
    "print(black_trousers_forecast)\n"
   ]
  },
  {
   "cell_type": "code",
   "execution_count": 11,
   "metadata": {},
   "outputs": [
    {
     "data": {
      "text/plain": [
       "np.int64(1307832)"
      ]
     },
     "execution_count": 11,
     "metadata": {},
     "output_type": "execute_result"
    }
   ],
   "source": [
    "black_trousers_forecast.units_sold.sum()"
   ]
  },
  {
   "cell_type": "code",
   "execution_count": 13,
   "metadata": {},
   "outputs": [],
   "source": [
    "black_trousers_forecast.to_csv('black_throusers_forecast_correct.csv')"
   ]
  }
 ],
 "metadata": {
  "kernelspec": {
   "display_name": "base",
   "language": "python",
   "name": "python3"
  },
  "language_info": {
   "codemirror_mode": {
    "name": "ipython",
    "version": 3
   },
   "file_extension": ".py",
   "mimetype": "text/x-python",
   "name": "python",
   "nbconvert_exporter": "python",
   "pygments_lexer": "ipython3",
   "version": "3.12.2"
  }
 },
 "nbformat": 4,
 "nbformat_minor": 2
}

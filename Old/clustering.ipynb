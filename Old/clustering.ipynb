{
 "cells": [
  {
   "cell_type": "code",
   "execution_count": 1,
   "metadata": {},
   "outputs": [],
   "source": [
    "import pandas as pd\n",
    "from sqlalchemy import create_engine\n",
    "from dotenv import load_dotenv\n",
    "import os\n",
    "from dotenv import dotenv_values\n",
    "\n",
    "from sqlalchemy import create_engine, types\n",
    "from sqlalchemy import text # to be able to pass string"
   ]
  },
  {
   "cell_type": "code",
   "execution_count": 2,
   "metadata": {},
   "outputs": [],
   "source": [
    "config = dotenv_values()\n",
    "\n",
    "# define variables for the login\n",
    "pg_user = config['POSTGRES_USER']  # align the key label with your .env file !\n",
    "pg_host = config['POSTGRES_HOST']\n",
    "pg_port = config['POSTGRES_PORT']\n",
    "pg_db = config['POSTGRES_DB']\n",
    "pg_schema = config['POSTGRES_SCHEMA']\n",
    "pg_pass = config['POSTGRES_PASS']\n",
    "\n",
    "\n",
    "url = f'postgresql://{pg_user}:{pg_pass}@{pg_host}:{pg_port}/{pg_db}'\n"
   ]
  },
  {
   "cell_type": "code",
   "execution_count": 3,
   "metadata": {},
   "outputs": [],
   "source": [
    "engine = create_engine(url, echo=False)\n",
    "my_schema = 'capstone_barstov_industries'\n",
    "\n",
    "with engine.begin() as conn: \n",
    "    result = conn.execute(text(f'SET search_path TO {my_schema};'))\n"
   ]
  },
  {
   "cell_type": "code",
   "execution_count": 4,
   "metadata": {},
   "outputs": [
    {
     "data": {
      "text/html": [
       "<div>\n",
       "<style scoped>\n",
       "    .dataframe tbody tr th:only-of-type {\n",
       "        vertical-align: middle;\n",
       "    }\n",
       "\n",
       "    .dataframe tbody tr th {\n",
       "        vertical-align: top;\n",
       "    }\n",
       "\n",
       "    .dataframe thead th {\n",
       "        text-align: right;\n",
       "    }\n",
       "</style>\n",
       "<table border=\"1\" class=\"dataframe\">\n",
       "  <thead>\n",
       "    <tr style=\"text-align: right;\">\n",
       "      <th></th>\n",
       "      <th>article_id</th>\n",
       "      <th>product_type_no</th>\n",
       "      <th>product_type_name</th>\n",
       "      <th>product_group_name</th>\n",
       "      <th>colour_group_code</th>\n",
       "      <th>colour_group_name</th>\n",
       "      <th>index_code</th>\n",
       "      <th>index_name</th>\n",
       "      <th>section_name</th>\n",
       "      <th>garment_group_no</th>\n",
       "      <th>unique_customers</th>\n",
       "      <th>total_sales</th>\n",
       "      <th>average_price</th>\n",
       "      <th>month</th>\n",
       "      <th>week</th>\n",
       "      <th>units_sold</th>\n",
       "      <th>abc_category</th>\n",
       "      <th>avg_customer_age</th>\n",
       "      <th>postal_code</th>\n",
       "    </tr>\n",
       "  </thead>\n",
       "  <tbody>\n",
       "    <tr>\n",
       "      <th>0</th>\n",
       "      <td>572797001</td>\n",
       "      <td>253</td>\n",
       "      <td>Vest top</td>\n",
       "      <td>Garment Upper body</td>\n",
       "      <td>9</td>\n",
       "      <td>Black</td>\n",
       "      <td>A</td>\n",
       "      <td>Ladieswear</td>\n",
       "      <td>Womens Casual</td>\n",
       "      <td>1005</td>\n",
       "      <td>9623</td>\n",
       "      <td>1.401441</td>\n",
       "      <td>0.010523</td>\n",
       "      <td>2020-08-01</td>\n",
       "      <td>2020-08-17</td>\n",
       "      <td>49</td>\n",
       "      <td>A</td>\n",
       "      <td>39.823633</td>\n",
       "      <td>f8e422ead9eb7b22f861bdc7ab44586cb8103c275e2337...</td>\n",
       "    </tr>\n",
       "    <tr>\n",
       "      <th>1</th>\n",
       "      <td>898931001</td>\n",
       "      <td>253</td>\n",
       "      <td>Vest top</td>\n",
       "      <td>Garment Upper body</td>\n",
       "      <td>9</td>\n",
       "      <td>Black</td>\n",
       "      <td>A</td>\n",
       "      <td>Ladieswear</td>\n",
       "      <td>Womens Casual</td>\n",
       "      <td>1005</td>\n",
       "      <td>480</td>\n",
       "      <td>1.636340</td>\n",
       "      <td>0.011504</td>\n",
       "      <td>2020-08-01</td>\n",
       "      <td>2020-08-17</td>\n",
       "      <td>51</td>\n",
       "      <td>A</td>\n",
       "      <td>37.151210</td>\n",
       "      <td>80355192cecd5f9e9bc8994f4aded657eb0cc373e8e1d7...</td>\n",
       "    </tr>\n",
       "    <tr>\n",
       "      <th>2</th>\n",
       "      <td>884754001</td>\n",
       "      <td>274</td>\n",
       "      <td>Shorts</td>\n",
       "      <td>Garment Lower body</td>\n",
       "      <td>93</td>\n",
       "      <td>Dark Green</td>\n",
       "      <td>F</td>\n",
       "      <td>Menswear</td>\n",
       "      <td>Men Underwear</td>\n",
       "      <td>1002</td>\n",
       "      <td>187</td>\n",
       "      <td>0.389559</td>\n",
       "      <td>0.023839</td>\n",
       "      <td>2020-08-01</td>\n",
       "      <td>2020-08-10</td>\n",
       "      <td>16</td>\n",
       "      <td>A</td>\n",
       "      <td>35.058511</td>\n",
       "      <td>403b00eebb203284edddcee9da2c13d6a819c35f609c31...</td>\n",
       "    </tr>\n",
       "    <tr>\n",
       "      <th>3</th>\n",
       "      <td>893429001</td>\n",
       "      <td>67</td>\n",
       "      <td>Belt</td>\n",
       "      <td>Accessories</td>\n",
       "      <td>9</td>\n",
       "      <td>Black</td>\n",
       "      <td>C</td>\n",
       "      <td>Ladies Accessories</td>\n",
       "      <td>Womens Big accessories</td>\n",
       "      <td>1019</td>\n",
       "      <td>526</td>\n",
       "      <td>0.065203</td>\n",
       "      <td>0.008249</td>\n",
       "      <td>2020-08-01</td>\n",
       "      <td>2020-08-10</td>\n",
       "      <td>9</td>\n",
       "      <td>B</td>\n",
       "      <td>30.569316</td>\n",
       "      <td>4f88f48fd1345f6ae3a634caadee2d9355d50a34f3ec53...</td>\n",
       "    </tr>\n",
       "    <tr>\n",
       "      <th>4</th>\n",
       "      <td>856840001</td>\n",
       "      <td>265</td>\n",
       "      <td>Dress</td>\n",
       "      <td>Garment Full body</td>\n",
       "      <td>12</td>\n",
       "      <td>Light Beige</td>\n",
       "      <td>A</td>\n",
       "      <td>Ladieswear</td>\n",
       "      <td>Womens Everyday Collection</td>\n",
       "      <td>1005</td>\n",
       "      <td>1707</td>\n",
       "      <td>5.455941</td>\n",
       "      <td>0.016212</td>\n",
       "      <td>2020-08-01</td>\n",
       "      <td>2020-08-17</td>\n",
       "      <td>102</td>\n",
       "      <td>A</td>\n",
       "      <td>49.056150</td>\n",
       "      <td>65e83d1376cd2882461012272f95450b96795dfbc3243b...</td>\n",
       "    </tr>\n",
       "  </tbody>\n",
       "</table>\n",
       "</div>"
      ],
      "text/plain": [
       "   article_id  product_type_no product_type_name  product_group_name  \\\n",
       "0   572797001              253          Vest top  Garment Upper body   \n",
       "1   898931001              253          Vest top  Garment Upper body   \n",
       "2   884754001              274            Shorts  Garment Lower body   \n",
       "3   893429001               67              Belt         Accessories   \n",
       "4   856840001              265             Dress   Garment Full body   \n",
       "\n",
       "   colour_group_code colour_group_name index_code          index_name  \\\n",
       "0                  9             Black          A          Ladieswear   \n",
       "1                  9             Black          A          Ladieswear   \n",
       "2                 93        Dark Green          F            Menswear   \n",
       "3                  9             Black          C  Ladies Accessories   \n",
       "4                 12       Light Beige          A          Ladieswear   \n",
       "\n",
       "                 section_name  garment_group_no  unique_customers  \\\n",
       "0               Womens Casual              1005              9623   \n",
       "1               Womens Casual              1005               480   \n",
       "2               Men Underwear              1002               187   \n",
       "3      Womens Big accessories              1019               526   \n",
       "4  Womens Everyday Collection              1005              1707   \n",
       "\n",
       "   total_sales  average_price       month        week  units_sold  \\\n",
       "0     1.401441       0.010523  2020-08-01  2020-08-17          49   \n",
       "1     1.636340       0.011504  2020-08-01  2020-08-17          51   \n",
       "2     0.389559       0.023839  2020-08-01  2020-08-10          16   \n",
       "3     0.065203       0.008249  2020-08-01  2020-08-10           9   \n",
       "4     5.455941       0.016212  2020-08-01  2020-08-17         102   \n",
       "\n",
       "  abc_category  avg_customer_age  \\\n",
       "0            A         39.823633   \n",
       "1            A         37.151210   \n",
       "2            A         35.058511   \n",
       "3            B         30.569316   \n",
       "4            A         49.056150   \n",
       "\n",
       "                                         postal_code  \n",
       "0  f8e422ead9eb7b22f861bdc7ab44586cb8103c275e2337...  \n",
       "1  80355192cecd5f9e9bc8994f4aded657eb0cc373e8e1d7...  \n",
       "2  403b00eebb203284edddcee9da2c13d6a819c35f609c31...  \n",
       "3  4f88f48fd1345f6ae3a634caadee2d9355d50a34f3ec53...  \n",
       "4  65e83d1376cd2882461012272f95450b96795dfbc3243b...  "
      ]
     },
     "execution_count": 4,
     "metadata": {},
     "output_type": "execute_result"
    }
   ],
   "source": [
    "with engine.begin() as conn: \n",
    "    result = conn.execute(text(f'''\n",
    "                               SELECT * FROM product_analysis; \n",
    "                                '''))\n",
    "    data = result.all()\n",
    "\n",
    "### Let's create a dataframe out of that\n",
    "product_analysis = pd.DataFrame(data) \n",
    "product_analysis.head(5)"
   ]
  },
  {
   "cell_type": "code",
   "execution_count": 34,
   "metadata": {},
   "outputs": [
    {
     "name": "stdout",
     "output_type": "stream",
     "text": [
      "<class 'pandas.core.frame.DataFrame'>\n",
      "RangeIndex: 104510 entries, 0 to 104509\n",
      "Data columns (total 19 columns):\n",
      " #   Column              Non-Null Count   Dtype  \n",
      "---  ------              --------------   -----  \n",
      " 0   article_id          104510 non-null  int64  \n",
      " 1   product_type_no     104510 non-null  int64  \n",
      " 2   product_type_name   104510 non-null  object \n",
      " 3   product_group_name  104510 non-null  object \n",
      " 4   colour_group_code   104510 non-null  int64  \n",
      " 5   colour_group_name   104510 non-null  object \n",
      " 6   index_code          104510 non-null  object \n",
      " 7   index_name          104510 non-null  object \n",
      " 8   section_name        104510 non-null  object \n",
      " 9   garment_group_no    104510 non-null  int64  \n",
      " 10  unique_customers    104510 non-null  int64  \n",
      " 11  total_sales         104510 non-null  float64\n",
      " 12  average_price       104510 non-null  float64\n",
      " 13  month               104510 non-null  object \n",
      " 14  week                104510 non-null  object \n",
      " 15  units_sold          104510 non-null  int64  \n",
      " 16  abc_category        104510 non-null  object \n",
      " 17  avg_customer_age    104510 non-null  float64\n",
      " 18  postal_code         104510 non-null  object \n",
      "dtypes: float64(3), int64(6), object(10)\n",
      "memory usage: 15.1+ MB\n"
     ]
    }
   ],
   "source": [
    "product_analysis.info()"
   ]
  },
  {
   "cell_type": "code",
   "execution_count": 5,
   "metadata": {},
   "outputs": [],
   "source": [
    "# Aggregate data by product type and color group to summarize demand\n",
    "product_data = product_analysis.groupby(['product_type_no', 'colour_group_code', 'garment_group_no']).agg({\n",
    "    'units_sold': 'sum'  # Aggregated demand\n",
    "}).reset_index()"
   ]
  },
  {
   "cell_type": "code",
   "execution_count": 6,
   "metadata": {},
   "outputs": [],
   "source": [
    "from sklearn.preprocessing import StandardScaler\n",
    "\n",
    "# Select features for scaling\n",
    "features = product_data[['units_sold', 'product_type_no', 'colour_group_code', 'garment_group_no']]\n",
    "scaler = StandardScaler()\n",
    "scaled_data = scaler.fit_transform(features)"
   ]
  },
  {
   "cell_type": "code",
   "execution_count": 7,
   "metadata": {},
   "outputs": [],
   "source": [
    "import hdbscan\n",
    "\n",
    "# Initialize HDBSCAN with chosen parameters\n",
    "hdbscan_clusterer = hdbscan.HDBSCAN(min_samples=5, min_cluster_size=10)\n",
    "product_clusters = hdbscan_clusterer.fit_predict(scaled_data)\n",
    "\n",
    "# Add cluster labels back to the data\n",
    "product_data['cluster'] = product_clusters"
   ]
  },
  {
   "cell_type": "code",
   "execution_count": 8,
   "metadata": {},
   "outputs": [
    {
     "name": "stdout",
     "output_type": "stream",
     "text": [
      "Cluster distribution: {np.int64(-1): np.int64(1626), np.int64(0): np.int64(17), np.int64(1): np.int64(64), np.int64(2): np.int64(76), np.int64(3): np.int64(12), np.int64(4): np.int64(10), np.int64(5): np.int64(10), np.int64(6): np.int64(14), np.int64(7): np.int64(61), np.int64(8): np.int64(17), np.int64(9): np.int64(12), np.int64(10): np.int64(10), np.int64(11): np.int64(33), np.int64(12): np.int64(31), np.int64(13): np.int64(18), np.int64(14): np.int64(10), np.int64(15): np.int64(15), np.int64(16): np.int64(10), np.int64(17): np.int64(53), np.int64(18): np.int64(20), np.int64(19): np.int64(15), np.int64(20): np.int64(49), np.int64(21): np.int64(11), np.int64(22): np.int64(35), np.int64(23): np.int64(65), np.int64(24): np.int64(19), np.int64(25): np.int64(29), np.int64(26): np.int64(63), np.int64(27): np.int64(26), np.int64(28): np.int64(51), np.int64(29): np.int64(28), np.int64(30): np.int64(54), np.int64(31): np.int64(80), np.int64(32): np.int64(35), np.int64(33): np.int64(148), np.int64(34): np.int64(265), np.int64(35): np.int64(12), np.int64(36): np.int64(25), np.int64(37): np.int64(29), np.int64(38): np.int64(30), np.int64(39): np.int64(25), np.int64(40): np.int64(28), np.int64(41): np.int64(26), np.int64(42): np.int64(30), np.int64(43): np.int64(12), np.int64(44): np.int64(13), np.int64(45): np.int64(11), np.int64(46): np.int64(30), np.int64(47): np.int64(29), np.int64(48): np.int64(17), np.int64(49): np.int64(51), np.int64(50): np.int64(34), np.int64(51): np.int64(84), np.int64(52): np.int64(23), np.int64(53): np.int64(14), np.int64(54): np.int64(57), np.int64(55): np.int64(45), np.int64(56): np.int64(53), np.int64(57): np.int64(22), np.int64(58): np.int64(47), np.int64(59): np.int64(12), np.int64(60): np.int64(17), np.int64(61): np.int64(29), np.int64(62): np.int64(18), np.int64(63): np.int64(29), np.int64(64): np.int64(40), np.int64(65): np.int64(19), np.int64(66): np.int64(87), np.int64(67): np.int64(17), np.int64(68): np.int64(29), np.int64(69): np.int64(13), np.int64(70): np.int64(36), np.int64(71): np.int64(31), np.int64(72): np.int64(36), np.int64(73): np.int64(16), np.int64(74): np.int64(45), np.int64(75): np.int64(38), np.int64(76): np.int64(25), np.int64(77): np.int64(18), np.int64(78): np.int64(23), np.int64(79): np.int64(18), np.int64(80): np.int64(21), np.int64(81): np.int64(29), np.int64(82): np.int64(13), np.int64(83): np.int64(22), np.int64(84): np.int64(16), np.int64(85): np.int64(14), np.int64(86): np.int64(11), np.int64(87): np.int64(23), np.int64(88): np.int64(45), np.int64(89): np.int64(18), np.int64(90): np.int64(10), np.int64(91): np.int64(28), np.int64(92): np.int64(13), np.int64(93): np.int64(20), np.int64(94): np.int64(13), np.int64(95): np.int64(14), np.int64(96): np.int64(17), np.int64(97): np.int64(10), np.int64(98): np.int64(25), np.int64(99): np.int64(22), np.int64(100): np.int64(26), np.int64(101): np.int64(46), np.int64(102): np.int64(14), np.int64(103): np.int64(11), np.int64(104): np.int64(17), np.int64(105): np.int64(33), np.int64(106): np.int64(20), np.int64(107): np.int64(31), np.int64(108): np.int64(33), np.int64(109): np.int64(23), np.int64(110): np.int64(10), np.int64(111): np.int64(15), np.int64(112): np.int64(22), np.int64(113): np.int64(12), np.int64(114): np.int64(18), np.int64(115): np.int64(26), np.int64(116): np.int64(26), np.int64(117): np.int64(15), np.int64(118): np.int64(16), np.int64(119): np.int64(14), np.int64(120): np.int64(17), np.int64(121): np.int64(12), np.int64(122): np.int64(39), np.int64(123): np.int64(15), np.int64(124): np.int64(35), np.int64(125): np.int64(10), np.int64(126): np.int64(19), np.int64(127): np.int64(21), np.int64(128): np.int64(43), np.int64(129): np.int64(29), np.int64(130): np.int64(128), np.int64(131): np.int64(216), np.int64(132): np.int64(13), np.int64(133): np.int64(23), np.int64(134): np.int64(65), np.int64(135): np.int64(24), np.int64(136): np.int64(19), np.int64(137): np.int64(25), np.int64(138): np.int64(19), np.int64(139): np.int64(35), np.int64(140): np.int64(76), np.int64(141): np.int64(60), np.int64(142): np.int64(92), np.int64(143): np.int64(29), np.int64(144): np.int64(198), np.int64(145): np.int64(159), np.int64(146): np.int64(29), np.int64(147): np.int64(79)}\n"
     ]
    }
   ],
   "source": [
    "import numpy as np\n",
    "\n",
    "# Display cluster distribution\n",
    "unique, counts = np.unique(product_clusters, return_counts=True)\n",
    "cluster_distribution = dict(zip(unique, counts))\n",
    "print(\"Cluster distribution:\", cluster_distribution)\n"
   ]
  },
  {
   "cell_type": "code",
   "execution_count": 9,
   "metadata": {},
   "outputs": [
    {
     "name": "stdout",
     "output_type": "stream",
     "text": [
      "         product_type_no  colour_group_code  garment_group_no  units_sold\n",
      "cluster                                                                  \n",
      "-1            237.676507          37.457565       1010.762608  406.445264\n",
      " 0            508.470588          50.294118       1019.000000   19.000000\n",
      " 1            499.781250          10.312500       1019.046875   15.265625\n",
      " 2             76.052632          12.131579       1001.000000    5.671053\n",
      " 3             76.083333          11.000000       1003.000000    4.500000\n",
      "...                  ...                ...               ...         ...\n",
      " 143          262.241379           9.206897       1008.000000   13.137931\n",
      " 144          263.757576          12.611111       1005.000000   36.883838\n",
      " 145          262.742138          13.232704       1006.000000   10.452830\n",
      " 146          265.000000          11.172414       1011.000000    7.344828\n",
      " 147          261.708861          12.417722       1010.000000   22.620253\n",
      "\n",
      "[149 rows x 4 columns]\n"
     ]
    }
   ],
   "source": [
    "# Summarize average demand and characteristics by cluster\n",
    "cluster_summary = product_data.groupby('cluster').mean()\n",
    "print(cluster_summary)"
   ]
  },
  {
   "cell_type": "code",
   "execution_count": 10,
   "metadata": {},
   "outputs": [
    {
     "ename": "KeyError",
     "evalue": "'t_date'",
     "output_type": "error",
     "traceback": [
      "\u001b[0;31m---------------------------------------------------------------------------\u001b[0m",
      "\u001b[0;31mKeyError\u001b[0m                                  Traceback (most recent call last)",
      "File \u001b[0;32m/opt/miniconda3/lib/python3.12/site-packages/pandas/core/indexes/base.py:3805\u001b[0m, in \u001b[0;36mIndex.get_loc\u001b[0;34m(self, key)\u001b[0m\n\u001b[1;32m   3804\u001b[0m \u001b[38;5;28;01mtry\u001b[39;00m:\n\u001b[0;32m-> 3805\u001b[0m     \u001b[38;5;28;01mreturn\u001b[39;00m \u001b[38;5;28;43mself\u001b[39;49m\u001b[38;5;241;43m.\u001b[39;49m\u001b[43m_engine\u001b[49m\u001b[38;5;241;43m.\u001b[39;49m\u001b[43mget_loc\u001b[49m\u001b[43m(\u001b[49m\u001b[43mcasted_key\u001b[49m\u001b[43m)\u001b[49m\n\u001b[1;32m   3806\u001b[0m \u001b[38;5;28;01mexcept\u001b[39;00m \u001b[38;5;167;01mKeyError\u001b[39;00m \u001b[38;5;28;01mas\u001b[39;00m err:\n",
      "File \u001b[0;32mindex.pyx:167\u001b[0m, in \u001b[0;36mpandas._libs.index.IndexEngine.get_loc\u001b[0;34m()\u001b[0m\n",
      "File \u001b[0;32mindex.pyx:196\u001b[0m, in \u001b[0;36mpandas._libs.index.IndexEngine.get_loc\u001b[0;34m()\u001b[0m\n",
      "File \u001b[0;32mpandas/_libs/hashtable_class_helper.pxi:7081\u001b[0m, in \u001b[0;36mpandas._libs.hashtable.PyObjectHashTable.get_item\u001b[0;34m()\u001b[0m\n",
      "File \u001b[0;32mpandas/_libs/hashtable_class_helper.pxi:7089\u001b[0m, in \u001b[0;36mpandas._libs.hashtable.PyObjectHashTable.get_item\u001b[0;34m()\u001b[0m\n",
      "\u001b[0;31mKeyError\u001b[0m: 't_date'",
      "\nThe above exception was the direct cause of the following exception:\n",
      "\u001b[0;31mKeyError\u001b[0m                                  Traceback (most recent call last)",
      "Cell \u001b[0;32mIn[10], line 2\u001b[0m\n\u001b[1;32m      1\u001b[0m \u001b[38;5;66;03m# Aggregate data by cluster and month for ARIMA\u001b[39;00m\n\u001b[0;32m----> 2\u001b[0m cluster_time_data \u001b[38;5;241m=\u001b[39m product_analysis\u001b[38;5;241m.\u001b[39mgroupby([\u001b[38;5;124m'\u001b[39m\u001b[38;5;124mcluster\u001b[39m\u001b[38;5;124m'\u001b[39m, \u001b[43mproduct_analysis\u001b[49m\u001b[43m[\u001b[49m\u001b[38;5;124;43m'\u001b[39;49m\u001b[38;5;124;43mt_date\u001b[39;49m\u001b[38;5;124;43m'\u001b[39;49m\u001b[43m]\u001b[49m\u001b[38;5;241m.\u001b[39mdt\u001b[38;5;241m.\u001b[39mto_period(\u001b[38;5;124m'\u001b[39m\u001b[38;5;124mM\u001b[39m\u001b[38;5;124m'\u001b[39m)])\u001b[38;5;241m.\u001b[39magg({\n\u001b[1;32m      3\u001b[0m     \u001b[38;5;124m'\u001b[39m\u001b[38;5;124munits_sold\u001b[39m\u001b[38;5;124m'\u001b[39m: \u001b[38;5;124m'\u001b[39m\u001b[38;5;124msum\u001b[39m\u001b[38;5;124m'\u001b[39m\n\u001b[1;32m      4\u001b[0m })\u001b[38;5;241m.\u001b[39mreset_index()\n\u001b[1;32m      6\u001b[0m \u001b[38;5;66;03m# Rename columns for clarity\u001b[39;00m\n\u001b[1;32m      7\u001b[0m cluster_time_data\u001b[38;5;241m.\u001b[39mcolumns \u001b[38;5;241m=\u001b[39m [\u001b[38;5;124m'\u001b[39m\u001b[38;5;124mcluster\u001b[39m\u001b[38;5;124m'\u001b[39m, \u001b[38;5;124m'\u001b[39m\u001b[38;5;124mmonth\u001b[39m\u001b[38;5;124m'\u001b[39m, \u001b[38;5;124m'\u001b[39m\u001b[38;5;124munits_sold\u001b[39m\u001b[38;5;124m'\u001b[39m]\n",
      "File \u001b[0;32m/opt/miniconda3/lib/python3.12/site-packages/pandas/core/frame.py:4102\u001b[0m, in \u001b[0;36mDataFrame.__getitem__\u001b[0;34m(self, key)\u001b[0m\n\u001b[1;32m   4100\u001b[0m \u001b[38;5;28;01mif\u001b[39;00m \u001b[38;5;28mself\u001b[39m\u001b[38;5;241m.\u001b[39mcolumns\u001b[38;5;241m.\u001b[39mnlevels \u001b[38;5;241m>\u001b[39m \u001b[38;5;241m1\u001b[39m:\n\u001b[1;32m   4101\u001b[0m     \u001b[38;5;28;01mreturn\u001b[39;00m \u001b[38;5;28mself\u001b[39m\u001b[38;5;241m.\u001b[39m_getitem_multilevel(key)\n\u001b[0;32m-> 4102\u001b[0m indexer \u001b[38;5;241m=\u001b[39m \u001b[38;5;28;43mself\u001b[39;49m\u001b[38;5;241;43m.\u001b[39;49m\u001b[43mcolumns\u001b[49m\u001b[38;5;241;43m.\u001b[39;49m\u001b[43mget_loc\u001b[49m\u001b[43m(\u001b[49m\u001b[43mkey\u001b[49m\u001b[43m)\u001b[49m\n\u001b[1;32m   4103\u001b[0m \u001b[38;5;28;01mif\u001b[39;00m is_integer(indexer):\n\u001b[1;32m   4104\u001b[0m     indexer \u001b[38;5;241m=\u001b[39m [indexer]\n",
      "File \u001b[0;32m/opt/miniconda3/lib/python3.12/site-packages/pandas/core/indexes/base.py:3812\u001b[0m, in \u001b[0;36mIndex.get_loc\u001b[0;34m(self, key)\u001b[0m\n\u001b[1;32m   3807\u001b[0m     \u001b[38;5;28;01mif\u001b[39;00m \u001b[38;5;28misinstance\u001b[39m(casted_key, \u001b[38;5;28mslice\u001b[39m) \u001b[38;5;129;01mor\u001b[39;00m (\n\u001b[1;32m   3808\u001b[0m         \u001b[38;5;28misinstance\u001b[39m(casted_key, abc\u001b[38;5;241m.\u001b[39mIterable)\n\u001b[1;32m   3809\u001b[0m         \u001b[38;5;129;01mand\u001b[39;00m \u001b[38;5;28many\u001b[39m(\u001b[38;5;28misinstance\u001b[39m(x, \u001b[38;5;28mslice\u001b[39m) \u001b[38;5;28;01mfor\u001b[39;00m x \u001b[38;5;129;01min\u001b[39;00m casted_key)\n\u001b[1;32m   3810\u001b[0m     ):\n\u001b[1;32m   3811\u001b[0m         \u001b[38;5;28;01mraise\u001b[39;00m InvalidIndexError(key)\n\u001b[0;32m-> 3812\u001b[0m     \u001b[38;5;28;01mraise\u001b[39;00m \u001b[38;5;167;01mKeyError\u001b[39;00m(key) \u001b[38;5;28;01mfrom\u001b[39;00m \u001b[38;5;21;01merr\u001b[39;00m\n\u001b[1;32m   3813\u001b[0m \u001b[38;5;28;01mexcept\u001b[39;00m \u001b[38;5;167;01mTypeError\u001b[39;00m:\n\u001b[1;32m   3814\u001b[0m     \u001b[38;5;66;03m# If we have a listlike key, _check_indexing_error will raise\u001b[39;00m\n\u001b[1;32m   3815\u001b[0m     \u001b[38;5;66;03m#  InvalidIndexError. Otherwise we fall through and re-raise\u001b[39;00m\n\u001b[1;32m   3816\u001b[0m     \u001b[38;5;66;03m#  the TypeError.\u001b[39;00m\n\u001b[1;32m   3817\u001b[0m     \u001b[38;5;28mself\u001b[39m\u001b[38;5;241m.\u001b[39m_check_indexing_error(key)\n",
      "\u001b[0;31mKeyError\u001b[0m: 't_date'"
     ]
    }
   ],
   "source": [
    "# Aggregate data by cluster and month for ARIMA\n",
    "cluster_time_data = product_analysis.groupby(['cluster', product_analysis['t_date'].dt.to_period('M')]).agg({\n",
    "    'units_sold': 'sum'\n",
    "}).reset_index()\n",
    "\n",
    "# Rename columns for clarity\n",
    "cluster_time_data.columns = ['cluster', 'month', 'units_sold']\n",
    "\n",
    "# Convert period to datetime format for ARIMA compatibility\n",
    "cluster_time_data['month'] = cluster_time_data['month'].dt.to_timestamp()\n"
   ]
  },
  {
   "cell_type": "code",
   "execution_count": 12,
   "metadata": {},
   "outputs": [
    {
     "ename": "NameError",
     "evalue": "name 'cluster_time_data' is not defined",
     "output_type": "error",
     "traceback": [
      "\u001b[0;31m---------------------------------------------------------------------------\u001b[0m",
      "\u001b[0;31mNameError\u001b[0m                                 Traceback (most recent call last)",
      "Cell \u001b[0;32mIn[12], line 3\u001b[0m\n\u001b[1;32m      1\u001b[0m \u001b[38;5;66;03m# Create a dictionary for time series by cluster\u001b[39;00m\n\u001b[1;32m      2\u001b[0m cluster_series_dict \u001b[38;5;241m=\u001b[39m {cluster: data[[\u001b[38;5;124m'\u001b[39m\u001b[38;5;124mmonth\u001b[39m\u001b[38;5;124m'\u001b[39m, \u001b[38;5;124m'\u001b[39m\u001b[38;5;124munits_sold\u001b[39m\u001b[38;5;124m'\u001b[39m]]\u001b[38;5;241m.\u001b[39mset_index(\u001b[38;5;124m'\u001b[39m\u001b[38;5;124mmonth\u001b[39m\u001b[38;5;124m'\u001b[39m) \n\u001b[0;32m----> 3\u001b[0m                        \u001b[38;5;28;01mfor\u001b[39;00m cluster, data \u001b[38;5;129;01min\u001b[39;00m \u001b[43mcluster_time_data\u001b[49m\u001b[38;5;241m.\u001b[39mgroupby(\u001b[38;5;124m'\u001b[39m\u001b[38;5;124mcluster\u001b[39m\u001b[38;5;124m'\u001b[39m)}\n",
      "\u001b[0;31mNameError\u001b[0m: name 'cluster_time_data' is not defined"
     ]
    }
   ],
   "source": [
    "# Create a dictionary for time series by cluster\n",
    "cluster_series_dict = {cluster: data[['month', 'units_sold']].set_index('month') \n",
    "                       for cluster, data in cluster_time_data.groupby('cluster')}\n"
   ]
  },
  {
   "cell_type": "code",
   "execution_count": null,
   "metadata": {},
   "outputs": [],
   "source": [
    "from statsmodels.tsa.arima.model import ARIMA\n",
    "\n",
    "# Example parameters for ARIMA (adjust as needed)\n",
    "arima_order = (1, 1, 1)\n",
    "\n",
    "# Dictionary to store ARIMA results for each cluster\n",
    "arima_results = {}\n",
    "\n",
    "# Loop through each cluster and fit ARIMA\n",
    "for cluster, series in cluster_series_dict.items():\n",
    "    # Fill missing months with 0, if any\n",
    "    series = series.asfreq('M', fill_value=0)\n",
    "    \n",
    "    # Fit ARIMA model to each cluster’s time series\n",
    "    try:\n",
    "        model = ARIMA(series['units_sold'], order=arima_order)\n",
    "        arima_fit = model.fit()\n",
    "        \n",
    "        # Save model summary or forecast to results dictionary\n",
    "        arima_results[cluster] = arima_fit.summary()  # Or save arima_fit.forecast(steps=12) for predictions\n",
    "        print(f\"ARIMA model fit for Cluster {cluster}\")\n",
    "        \n",
    "    except Exception as e:\n",
    "        print(f\"Could not fit ARIMA for Cluster {cluster}: {e}\")\n"
   ]
  },
  {
   "cell_type": "markdown",
   "metadata": {},
   "source": [
    "#### NEW CLUSTERS ####"
   ]
  },
  {
   "cell_type": "code",
   "execution_count": 13,
   "metadata": {},
   "outputs": [],
   "source": [
    "# Aggregate data by product type, color, section, and month\n",
    "product_demand_data = product_analysis.groupby([\n",
    "    'product_type_no', 'product_type_name', 'product_group_name', 'colour_group_code',\n",
    "    'index_code', 'section_name', 'month'\n",
    "]).agg({\n",
    "    'units_sold': 'sum'\n",
    "}).reset_index()\n"
   ]
  },
  {
   "cell_type": "code",
   "execution_count": 14,
   "metadata": {},
   "outputs": [],
   "source": [
    "from sklearn.preprocessing import StandardScaler\n",
    "\n",
    "# Select numeric columns to standardize (e.g., units_sold, colour_group_code)\n",
    "numeric_features = ['units_sold', 'colour_group_code', 'product_type_no']\n",
    "scaler = StandardScaler()\n",
    "product_demand_data[numeric_features] = scaler.fit_transform(product_demand_data[numeric_features])\n"
   ]
  },
  {
   "cell_type": "code",
   "execution_count": 15,
   "metadata": {},
   "outputs": [],
   "source": [
    "import hdbscan\n",
    "\n",
    "# Define features for clustering\n",
    "clustering_features = ['units_sold', 'colour_group_code', 'product_type_no']\n",
    "\n",
    "# Run HDBSCAN on selected features\n",
    "hdbscan_clusterer = hdbscan.HDBSCAN(min_samples=5, min_cluster_size=20)\n",
    "product_demand_data['cluster'] = hdbscan_clusterer.fit_predict(product_demand_data[clustering_features])\n"
   ]
  },
  {
   "cell_type": "code",
   "execution_count": 16,
   "metadata": {},
   "outputs": [
    {
     "name": "stdout",
     "output_type": "stream",
     "text": [
      "         product_type_name  units_sold  colour_group_code\n",
      "cluster                                                  \n",
      "104                      8    5.141385                  5\n",
      "47                      10    2.945050                  3\n",
      "546                      5    2.547786                  6\n",
      "517                      4    2.251088                  4\n",
      "48                       8    1.971533                  3\n",
      "...                    ...         ...                ...\n",
      "284                      1   -0.212358                  1\n",
      "936                      1   -0.212358                  1\n",
      "337                      4   -0.212358                  1\n",
      "184                      2   -0.212358                  1\n",
      "676                      1   -0.212358                  1\n",
      "\n",
      "[998 rows x 3 columns]\n"
     ]
    }
   ],
   "source": [
    "# Summarize clusters to check their characteristics\n",
    "cluster_summary = product_demand_data.groupby('cluster').agg({\n",
    "    'product_type_name': 'nunique',\n",
    "    'units_sold': 'mean',\n",
    "    'colour_group_code': 'nunique'\n",
    "}).sort_values('units_sold', ascending=False)\n",
    "print(cluster_summary)\n"
   ]
  },
  {
   "cell_type": "code",
   "execution_count": 17,
   "metadata": {},
   "outputs": [
    {
     "data": {
      "image/png": "[encoded data removed]",
      "text/plain": [
       "<Figure size 1000x700 with 1 Axes>"
      ]
     },
     "metadata": {},
     "output_type": "display_data"
    }
   ],
   "source": [
    "from scipy.cluster.hierarchy import linkage, dendrogram\n",
    "import matplotlib.pyplot as plt\n",
    "# Linkage for hierarchical clustering, e.g., on selected features\n",
    "linked = linkage(product_demand_data[clustering_features], method='ward')\n",
    "plt.figure(figsize=(10, 7))\n",
    "dendrogram(linked, truncate_mode='level', p=10)  # Adjust p for the level of detail\n",
    "plt.show()\n"
   ]
  },
  {
   "cell_type": "code",
   "execution_count": 29,
   "metadata": {},
   "outputs": [],
   "source": [
    "from scipy.cluster.hierarchy import fcluster\n",
    "\n",
    "# Set a height level for cutting the dendrogram, e.g., 150\n",
    "cutoff_height = 150\n",
    "cluster_labels = fcluster(linked, cutoff_height, criterion='distance')\n",
    "\n",
    "# Add the cluster labels to your DataFrame for analysis\n",
    "product_demand_data['cluster'] = cluster_labels\n"
   ]
  },
  {
   "cell_type": "code",
   "execution_count": 30,
   "metadata": {},
   "outputs": [
    {
     "name": "stdout",
     "output_type": "stream",
     "text": [
      "       product_type_no product_type_name     product_group_name  \\\n",
      "0            -3.074878           Unknown                Unknown   \n",
      "1            -3.074878           Unknown                Unknown   \n",
      "2            -3.074878           Unknown                Unknown   \n",
      "3            -3.074878           Unknown                Unknown   \n",
      "4            -3.074878           Unknown                Unknown   \n",
      "...                ...               ...                    ...   \n",
      "57817         6.909611        Marker pen             Stationery   \n",
      "57818         6.909611        Marker pen             Stationery   \n",
      "57819         6.922714       Zipper head  Garment and Shoe care   \n",
      "57820         6.922714       Zipper head  Garment and Shoe care   \n",
      "57821         6.922714       Zipper head  Garment and Shoe care   \n",
      "\n",
      "       colour_group_code index_code        section_name       month  \\\n",
      "0              -1.013967          B     Womens Lingerie  2020-08-01   \n",
      "1              -1.013967          D        Ladies Denim  2020-09-01   \n",
      "2              -1.013967          F           Denim Men  2020-08-01   \n",
      "3              -0.978623          B     Womens Lingerie  2020-08-01   \n",
      "4              -0.978623          D  Divided Collection  2020-09-01   \n",
      "...                  ...        ...                 ...         ...   \n",
      "57817           1.354071          A      Collaborations  2020-08-01   \n",
      "57818           2.060947          A      Collaborations  2020-08-01   \n",
      "57819          -0.907936          A      Collaborations  2020-04-01   \n",
      "57820          -0.907936          A      Collaborations  2020-06-01   \n",
      "57821          -0.907936          A      Collaborations  2020-09-01   \n",
      "\n",
      "       units_sold  cluster  \n",
      "0       -0.148125        1  \n",
      "1        0.831414        1  \n",
      "2        0.413905        1  \n",
      "3        0.333615        1  \n",
      "4       -0.083893        1  \n",
      "...           ...      ...  \n",
      "57817   -0.212358        3  \n",
      "57818   -0.212358        3  \n",
      "57819   -0.067835        3  \n",
      "57820   -0.132067        3  \n",
      "57821   -0.148125        3  \n",
      "\n",
      "[57822 rows x 9 columns]\n"
     ]
    }
   ],
   "source": [
    "print(product_demand_data)"
   ]
  },
  {
   "cell_type": "code",
   "execution_count": 31,
   "metadata": {},
   "outputs": [
    {
     "name": "stdout",
     "output_type": "stream",
     "text": [
      "        product_type_no colour_group_code units_sold       \n",
      "                   mean              mean       mean  count\n",
      "cluster                                                    \n",
      "1             -2.040706         -0.122680  -0.100608  10468\n",
      "2              0.448890          0.991039  -0.072009  22094\n",
      "3              0.454416         -0.818094   0.024509  25118\n",
      "4              0.213607         -0.442990  14.285318    142\n"
     ]
    }
   ],
   "source": [
    "# Summarize clusters by averaging relevant columns\n",
    "cluster_summary = product_demand_data.groupby('cluster').agg({\n",
    "    'product_type_no': 'mean',\n",
    "    'colour_group_code': 'mean',\n",
    "    'units_sold': ['mean', 'count']  # Count gives the size of each cluster\n",
    "})\n",
    "\n",
    "print(cluster_summary)\n"
   ]
  },
  {
   "cell_type": "markdown",
   "metadata": {},
   "source": [
    "### ANOTHER APPROACH ###"
   ]
  },
  {
   "cell_type": "code",
   "execution_count": 35,
   "metadata": {},
   "outputs": [],
   "source": [
    "from sklearn.preprocessing import StandardScaler\n",
    "\n",
    "# Select numerical columns to standardize (you can add or remove features as necessary)\n",
    "numeric_features = ['units_sold', 'unique_customers', 'average_price']\n",
    "scaler = StandardScaler()\n",
    "product_analysis[numeric_features] = scaler.fit_transform(product_analysis[numeric_features])\n"
   ]
  },
  {
   "cell_type": "code",
   "execution_count": 36,
   "metadata": {},
   "outputs": [],
   "source": [
    "import hdbscan\n",
    "\n",
    "# Define the clustering features (add or remove features based on your analysis goals)\n",
    "clustering_features = ['units_sold', 'unique_customers', 'average_price']\n",
    "hdbscan_clusterer = hdbscan.HDBSCAN(min_samples=5, min_cluster_size=10)\n",
    "\n",
    "# Fit the clustering algorithm and add the cluster labels to the DataFrame\n",
    "product_analysis['cluster'] = hdbscan_clusterer.fit_predict(product_analysis[clustering_features])\n"
   ]
  },
  {
   "cell_type": "code",
   "execution_count": 37,
   "metadata": {},
   "outputs": [
    {
     "name": "stdout",
     "output_type": "stream",
     "text": [
      "Unique clusters: [  -1  238  398 ...  323 1257 1870]\n"
     ]
    }
   ],
   "source": [
    "print(\"Unique clusters:\", product_analysis['cluster'].unique())\n"
   ]
  },
  {
   "cell_type": "code",
   "execution_count": 38,
   "metadata": {},
   "outputs": [
    {
     "name": "stdout",
     "output_type": "stream",
     "text": [
      "Cluster Summary with Mode and Mean:\n",
      "      cluster  product_type_no  product_type_name  colour_group_code  \\\n",
      "0          -1              265                124                  9   \n",
      "1           0              272                  7                  9   \n",
      "2           1              265                  8                  9   \n",
      "3           2              272                  8                  9   \n",
      "4           3              272                  9                  9   \n",
      "...       ...              ...                ...                ...   \n",
      "1929     1928              274                  7                 73   \n",
      "1930     1929              252                 13                  9   \n",
      "1931     1930               69                  9                 51   \n",
      "1932     1931              252                 10                 73   \n",
      "1933     1932              272                  6                 10   \n",
      "\n",
      "     colour_group_name  units_sold  unique_customers  average_price  \n",
      "0                Black    0.121330          0.157264       0.037224  \n",
      "1                Black   -0.262435         -0.376804      15.365448  \n",
      "2                Black   13.071202          0.857477       0.390027  \n",
      "3                Black   -0.007441         11.388950      -0.219184  \n",
      "4                Black    8.468242          2.332506      -0.215863  \n",
      "...                ...         ...               ...            ...  \n",
      "1929         Dark Blue   -0.300893         -0.404808      -0.471021  \n",
      "1930             Black   -0.300893         -0.400083      -0.478601  \n",
      "1931         Dark Blue   -0.300893         -0.401658      -0.469774  \n",
      "1932         Dark Blue   -0.300893         -0.401658      -0.475394  \n",
      "1933             White   -0.300893         -0.401658      -0.479229  \n",
      "\n",
      "[1934 rows x 8 columns]\n"
     ]
    }
   ],
   "source": [
    "# Summarize clusters using mode for categorical variables and mean for numerical ones\n",
    "cluster_summary = product_analysis.groupby('cluster').agg({\n",
    "    'product_type_no': lambda x: x.mode().iloc[0],  # Most frequent product type\n",
    "    'product_type_name': lambda x: x.mode().iloc[0],  # Most frequent product type name\n",
    "    'colour_group_code': lambda x: x.mode().iloc[0],  # Most frequent color group code\n",
    "    'colour_group_name': lambda x: x.mode().iloc[0],  # Most frequent color group name\n",
    "    'product_type_name': 'nunique',  # Number of unique product types in the cluster\n",
    "    'units_sold': 'mean',  # Mean units sold as a demand indicator\n",
    "    'unique_customers': 'mean',  # Mean unique customers\n",
    "    'average_price': 'mean'  # Mean average price\n",
    "}).reset_index()\n",
    "\n",
    "print(\"Cluster Summary with Mode and Mean:\")\n",
    "print(cluster_summary)\n"
   ]
  },
  {
   "cell_type": "code",
   "execution_count": 39,
   "metadata": {},
   "outputs": [
    {
     "name": "stdout",
     "output_type": "stream",
     "text": [
      "Product Type Distribution by Cluster:\n",
      "product_type_no  -1     49    57    59    60    66    67    68    69    70   \\\n",
      "cluster                                                                       \n",
      "-1                 71    15   383   808    13   708   248    84   233   587   \n",
      " 0                  0     0     0     0     0     0     0     0     0     0   \n",
      " 1                  0     0     0     0     0     0     0     0     0     0   \n",
      " 2                  0     0     0     1     0     0     0     0     0     0   \n",
      " 3                  0     0     1     0     0     0     0     0     0     0   \n",
      "\n",
      "product_type_no  ...   512   514   515   521   523   525   529   532   761  \\\n",
      "cluster          ...                                                         \n",
      "-1               ...    22     0     5     4     2     1     4     2     5   \n",
      " 0               ...     0     0     0     0     0     0     0     0     0   \n",
      " 1               ...     0     0     0     0     0     0     0     0     0   \n",
      " 2               ...     0     0     0     0     0     0     0     0     0   \n",
      " 3               ...     0     0     0     0     0     0     0     0     0   \n",
      "\n",
      "product_type_no   762  \n",
      "cluster                \n",
      "-1                  2  \n",
      " 0                  0  \n",
      " 1                  0  \n",
      " 2                  0  \n",
      " 3                  0  \n",
      "\n",
      "[5 rows x 131 columns]\n",
      "Colour Group Distribution by Cluster:\n",
      "colour_group_code  -1    1    2    3    4    5     6     7     8      9   ...  \\\n",
      "cluster                                                                   ...   \n",
      "-1                  15   54   13  344   51  713  1143  2236  1461  13166  ...   \n",
      " 0                   0    0    0    0    0    0     0     0     1     19  ...   \n",
      " 1                   0    0    0    0    0    0     0     0     0      6  ...   \n",
      " 2                   0    0    0    0    0    0     0     0     1      6  ...   \n",
      " 3                   0    0    0    0    0    0     0     0     0      5  ...   \n",
      "\n",
      "colour_group_code    72    73   80   81   82   83   90   91   92    93  \n",
      "cluster                                                                 \n",
      "-1                 1848  6229    4  499  221  257   75  340  440  1157  \n",
      " 0                    0     4    0    0    0    0    0    0    0     2  \n",
      " 1                    0     0    0    0    0    0    0    0    0     0  \n",
      " 2                    0     0    0    0    0    0    0    0    0     0  \n",
      " 3                    0     1    0    0    0    0    0    0    1     1  \n",
      "\n",
      "[5 rows x 50 columns]\n"
     ]
    }
   ],
   "source": [
    "# Frequency distribution of product types by cluster\n",
    "product_type_distribution = product_analysis.groupby(['cluster', 'product_type_no']).size().unstack(fill_value=0)\n",
    "colour_group_distribution = product_analysis.groupby(['cluster', 'colour_group_code']).size().unstack(fill_value=0)\n",
    "\n",
    "print(\"Product Type Distribution by Cluster:\")\n",
    "print(product_type_distribution.head())\n",
    "\n",
    "print(\"Colour Group Distribution by Cluster:\")\n",
    "print(colour_group_distribution.head())\n"
   ]
  },
  {
   "cell_type": "code",
   "execution_count": 40,
   "metadata": {},
   "outputs": [
    {
     "name": "stdout",
     "output_type": "stream",
     "text": [
      "High-Demand Clusters:\n",
      "    cluster  product_type_no  product_type_name  colour_group_code  \\\n",
      "4         3              272                  9                  9   \n",
      "6         5              272                  7                  9   \n",
      "14       13              274                  9                  9   \n",
      "16       15              255                 11                  9   \n",
      "20       19              258                 13                  9   \n",
      "21       20              265                  8                  9   \n",
      "26       25               59                  9                 10   \n",
      "28       27              253                  9                  9   \n",
      "34       33              252                  9                  9   \n",
      "35       34              265                  8                 10   \n",
      "39       38              306                  9                  9   \n",
      "42       41              258                  7                  9   \n",
      "52       51              252                 13                  9   \n",
      "57       56              254                  7                  9   \n",
      "75       74              258                 10                  9   \n",
      "\n",
      "   colour_group_name  units_sold  unique_customers  average_price  \n",
      "4              Black    8.468242          2.332506      -0.215863  \n",
      "6              Black    1.639392          5.798720      -0.144724  \n",
      "14             Black    1.244577          3.843023      -0.215166  \n",
      "16             Black    3.926729          1.217346      -0.196799  \n",
      "20             Black    2.566465          1.938814      -0.211205  \n",
      "21             Black    2.948178          1.470133      -0.149814  \n",
      "26             White    1.128041          2.692093      -0.489673  \n",
      "28             Black    1.564204          1.795307      -0.494317  \n",
      "34             Black    1.691950          1.718264       0.030341  \n",
      "35             White    2.161222          1.307757       0.069151  \n",
      "39             Black    1.325501          2.110749      -0.191841  \n",
      "42             Black    1.713850          1.347724       0.080794  \n",
      "52             Black    1.040647          1.839129      -0.349612  \n",
      "57             Black    1.152429          1.538144      -0.498476  \n",
      "75             Black    1.050611          1.021111       0.084526  \n"
     ]
    }
   ],
   "source": [
    "# Filter clusters with high units_sold and unique_customers\n",
    "high_demand_clusters = cluster_summary[(cluster_summary['units_sold'] > 1) & \n",
    "                                       (cluster_summary['unique_customers'] > 1)]\n",
    "print(\"High-Demand Clusters:\")\n",
    "print(high_demand_clusters)\n"
   ]
  }
 ],
 "metadata": {
  "kernelspec": {
   "display_name": "base",
   "language": "python",
   "name": "python3"
  },
  "language_info": {
   "codemirror_mode": {
    "name": "ipython",
    "version": 3
   },
   "file_extension": ".py",
   "mimetype": "text/x-python",
   "name": "python",
   "nbconvert_exporter": "python",
   "pygments_lexer": "ipython3",
   "version": "3.12.2"
  }
 },
 "nbformat": 4,
 "nbformat_minor": 2
}

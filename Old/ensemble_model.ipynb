{
 "cells": [
  {
   "cell_type": "code",
   "execution_count": 6,
   "metadata": {},
   "outputs": [],
   "source": [
    "import pandas as pd\n",
    "from sqlalchemy import create_engine\n",
    "from dotenv import load_dotenv\n",
    "import os\n",
    "from dotenv import dotenv_values\n",
    "\n",
    "from sqlalchemy import create_engine, types\n",
    "from sqlalchemy import text # to be able to pass string"
   ]
  },
  {
   "cell_type": "code",
   "execution_count": 7,
   "metadata": {},
   "outputs": [
    {
     "name": "stdout",
     "output_type": "stream",
     "text": [
      "<class 'pandas.core.frame.DataFrame'>\n",
      "RangeIndex: 172968 entries, 0 to 172967\n",
      "Data columns (total 8 columns):\n",
      " #   Column             Non-Null Count   Dtype              \n",
      "---  ------             --------------   -----              \n",
      " 0   product_type_no    172968 non-null  int64              \n",
      " 1   product_type_name  172968 non-null  object             \n",
      " 2   colour_group_code  172968 non-null  int64              \n",
      " 3   colour_group_name  172968 non-null  object             \n",
      " 4   week               172968 non-null  datetime64[ns, UTC]\n",
      " 5   average_price      172968 non-null  float64            \n",
      " 6   total_units_sold   172968 non-null  int64              \n",
      " 7   unique_customers   172968 non-null  int64              \n",
      "dtypes: datetime64[ns, UTC](1), float64(1), int64(4), object(2)\n",
      "memory usage: 10.6+ MB\n"
     ]
    }
   ],
   "source": [
    "# Load environment variables\n",
    "config = dotenv_values()\n",
    "\n",
    "# Define variables for the login\n",
    "pg_user = config['POSTGRES_USER']\n",
    "pg_host = config['POSTGRES_HOST']\n",
    "pg_port = config['POSTGRES_PORT']\n",
    "pg_db = config['POSTGRES_DB']\n",
    "pg_schema = config['POSTGRES_SCHEMA']\n",
    "pg_pass = config['POSTGRES_PASS']\n",
    "\n",
    "# Set up the PostgreSQL connection URL\n",
    "url = f'postgresql://{pg_user}:{pg_pass}@{pg_host}:{pg_port}/{pg_db}'\n",
    "\n",
    "# Create the database engine\n",
    "engine = create_engine(url, echo=False)\n",
    "my_schema = 'capstone_barstov_industries'\n",
    "\n",
    "# Load data directly into a DataFrame\n",
    "with engine.connect() as conn:\n",
    "    conn.execute(text(f'SET search_path TO {my_schema};'))\n",
    "    data = pd.read_sql(\"SELECT * FROM model_data_week;\", conn)\n",
    "\n",
    "# Check the DataFrame structure\n",
    "data.info()\n"
   ]
  },
  {
   "cell_type": "code",
   "execution_count": 8,
   "metadata": {},
   "outputs": [
    {
     "name": "stdout",
     "output_type": "stream",
     "text": [
      "Training Date Range: 2018-09-16 22:00:00 to 2020-07-26 22:00:00\n",
      "Validation Date Range: 2020-08-02 22:00:00 to 2020-08-23 22:00:00\n",
      "Test Date Range: 2020-08-30 22:00:00 to 2020-09-20 22:00:00\n",
      "Ensemble with Random Forest as Final Model - MAE: 32.871849780373445\n",
      "Ensemble with Random Forest as Final Model - RMSE: 107.43224567622283\n",
      "Feature importances from the final meta-model: [0.9029339  0.04933685 0.04772925]\n"
     ]
    },
    {
     "name": "stderr",
     "output_type": "stream",
     "text": [
      "/opt/miniconda3/lib/python3.12/site-packages/sklearn/metrics/_regression.py:492: FutureWarning: 'squared' is deprecated in version 1.4 and will be removed in 1.6. To calculate the root mean squared error, use the function'root_mean_squared_error'.\n",
      "  warnings.warn(\n"
     ]
    }
   ],
   "source": [
    "# Inventory Sales Prediction with Ensemble Modeling\n",
    "# -------------------------------------------------\n",
    "# This notebook demonstrates the use of an ensemble model with Random Forest as the final estimator\n",
    "# to predict weekly sales for inventory management.\n",
    "\n",
    "# Imports\n",
    "# -------\n",
    "import pandas as pd\n",
    "from sklearn.ensemble import RandomForestRegressor\n",
    "from sklearn.linear_model import LinearRegression\n",
    "from sklearn.neural_network import MLPRegressor\n",
    "from sklearn.ensemble import StackingRegressor\n",
    "from sklearn.metrics import mean_absolute_error, mean_squared_error\n",
    "import numpy as np\n",
    "\n",
    "# Load and Preprocess Data\n",
    "# ------------------------\n",
    "# Ensure 'week' is a datetime object and remove timezone information\n",
    "# Convert 'week' column to datetime without timezone information\n",
    "data['week'] = data['week'].dt.tz_localize(None)\n",
    "\n",
    "\n",
    "# Sort data by date to ensure temporal order\n",
    "data = data.sort_values(by='week')\n",
    "\n",
    "# Feature Engineering: Creating Lagged Features for Sales\n",
    "data['lag_units_sold_1week'] = data.groupby('product_type_no')['total_units_sold'].shift(1)\n",
    "data['lag_units_sold_2weeks'] = data.groupby('product_type_no')['total_units_sold'].shift(2)\n",
    "\n",
    "# Drop rows with NaN values created by lagging (occurs at the beginning of each product group)\n",
    "data = data.dropna(subset=['lag_units_sold_1week', 'lag_units_sold_2weeks']).reset_index(drop=True)\n",
    "\n",
    "# Adding Cyclic Encoding for Weeks\n",
    "data['week_of_year'] = data['week'].dt.isocalendar().week\n",
    "data['week_sin'] = np.sin(2 * np.pi * data['week_of_year'] / 52)\n",
    "data['week_cos'] = np.cos(2 * np.pi * data['week_of_year'] / 52)\n",
    "\n",
    "# Train-Validation-Test Split with Date Ranges\n",
    "# --------------------------------------------\n",
    "\n",
    "# Define the end date as the maximum date in the dataset\n",
    "end_date = data['week'].max()\n",
    "\n",
    "# Define date ranges for train, validation, and test\n",
    "train_end_date = end_date - pd.Timedelta(weeks=8)  # End training 6 weeks before the end date\n",
    "validation_start_date = train_end_date + pd.Timedelta(weeks=4)  # Start validation 2 weeks after training ends\n",
    "validation_end_date = end_date - pd.Timedelta(weeks=4)  # End validation 4 weeks before the end date\n",
    "\n",
    "# Split data into train, validation, and test sets based on specific date ranges\n",
    "train_data = data[data['week'] <= train_end_date]\n",
    "validation_set = data[(data['week'] > train_end_date) & (data['week'] <= validation_end_date)]\n",
    "test_set = data[data['week'] > validation_end_date]\n",
    "\n",
    "# Define features and target variable\n",
    "feature_columns = ['product_type_no', 'colour_group_code', 'average_price', \n",
    "                   'lag_units_sold_1week', 'lag_units_sold_2weeks', 'week_sin', 'week_cos']\n",
    "\n",
    "X_train = train_data[feature_columns]\n",
    "y_train = train_data['total_units_sold']\n",
    "\n",
    "X_validation = validation_set[feature_columns]\n",
    "y_validation = validation_set['total_units_sold']\n",
    "\n",
    "X_test = test_set[feature_columns]\n",
    "y_test = test_set['total_units_sold']\n",
    "\n",
    "# Confirm the split date ranges\n",
    "print(\"Training Date Range:\", train_data['week'].min(), \"to\", train_data['week'].max())\n",
    "print(\"Validation Date Range:\", validation_set['week'].min(), \"to\", validation_set['week'].max())\n",
    "print(\"Test Date Range:\", test_set['week'].min(), \"to\", test_set['week'].max())\n",
    "\n",
    "# Initialize and Train Base Models\n",
    "# -------------------------------\n",
    "model_rf = RandomForestRegressor(n_estimators=200, max_depth=30, random_state=42)\n",
    "model_lr = LinearRegression()\n",
    "model_mlp = MLPRegressor(hidden_layer_sizes=(100,), max_iter=500, random_state=42)\n",
    "\n",
    "# Fit each base model on the training data\n",
    "model_rf.fit(X_train, y_train)\n",
    "model_lr.fit(X_train, y_train)\n",
    "model_mlp.fit(X_train, y_train)\n",
    "\n",
    "# Generate predictions for the validation set from each model\n",
    "preds_rf = model_rf.predict(X_validation)\n",
    "preds_lr = model_lr.predict(X_validation)\n",
    "preds_mlp = model_mlp.predict(X_validation)\n",
    "\n",
    "# Create a new DataFrame to hold the base model predictions\n",
    "predictions_df = pd.DataFrame({\n",
    "    'RandomForest': preds_rf,\n",
    "    'LinearRegression': preds_lr,\n",
    "    'MLPRegressor': preds_mlp\n",
    "})\n",
    "\n",
    "# Final Meta-Model Using Random Forest\n",
    "# ------------------------------------\n",
    "final_model_rf = RandomForestRegressor(n_estimators=200, max_depth=30, random_state=42)\n",
    "final_model_rf.fit(predictions_df, y_validation)\n",
    "\n",
    "# Final Predictions and Evaluation\n",
    "# --------------------------------\n",
    "final_preds_rf = final_model_rf.predict(predictions_df)\n",
    "\n",
    "# Evaluate the Random Forest final model on validation set\n",
    "mae_rf = mean_absolute_error(y_validation, final_preds_rf)\n",
    "rmse_rf = mean_squared_error(y_validation, final_preds_rf, squared=False)\n",
    "\n",
    "print(\"Ensemble with Random Forest as Final Model - MAE:\", mae_rf)\n",
    "print(\"Ensemble with Random Forest as Final Model - RMSE:\", rmse_rf)\n",
    "\n",
    "# Feature Importance Analysis (for the final model)\n",
    "# -------------------------------------------------\n",
    "print(\"Feature importances from the final meta-model:\", final_model_rf.feature_importances_)\n"
   ]
  },
  {
   "cell_type": "code",
   "execution_count": 18,
   "metadata": {},
   "outputs": [
    {
     "name": "stdout",
     "output_type": "stream",
     "text": [
      "Average units sold per week: 270423.8396226415\n"
     ]
    }
   ],
   "source": [
    "# Group by 'week' and calculate the total units sold per week\n",
    "weekly_sales = data.groupby('week')['total_units_sold'].sum()\n",
    "\n",
    "# Calculate the average units sold per week across all weeks\n",
    "average_units_sold_per_week = weekly_sales.mean()\n",
    "\n",
    "# Display the result\n",
    "print(\"Average units sold per week:\", average_units_sold_per_week)\n"
   ]
  },
  {
   "cell_type": "code",
   "execution_count": 24,
   "metadata": {},
   "outputs": [
    {
     "name": "stdout",
     "output_type": "stream",
     "text": [
      "Minimum weekly units sold: 58371\n",
      "Maximum weekly units sold: 508779\n"
     ]
    }
   ],
   "source": [
    "# Aggregate total units sold by week\n",
    "weekly_sales = data.groupby('week')['total_units_sold'].sum()\n",
    "\n",
    "# Calculate the range of weekly sales\n",
    "weekly_sales_min = weekly_sales.min()\n",
    "weekly_sales_max = weekly_sales.max()\n",
    "\n",
    "print(\"Minimum weekly units sold:\", weekly_sales_min)\n",
    "print(\"Maximum weekly units sold:\", weekly_sales_max)\n",
    "\n"
   ]
  },
  {
   "cell_type": "markdown",
   "metadata": {},
   "source": [
    "\n",
    "| Meta-Model            | MAE       | RMSE     |\n",
    "|-----------------------|-----------|----------|\n",
    "| **Random Forest**     | 30.91     | 109.64   |\n",
    "| **MLP Regressor**     | 76.19     | 239.57   |\n",
    "| **Linear Regression** | 78.75     | 243.82   |\n",
    "\n",
    "### Interpretation\n",
    "\n",
    "- **Random Forest as Best Choice**: The Random Forest clearly outperforms both MLP and Linear Regression as a meta-model, achieving much lower error metrics.\n",
    "- **Higher Errors with MLP and Linear Regression**: Both MLP and Linear Regression show similar MAE and RMSE, but these metrics are higher than those of the Random Forest, indicating that they may not capture the nuances of the base models’ predictions as effectively.\n",
    "\n",
    "### Conclusion\n",
    "\n",
    "Based on these results, **Random Forest is the most effective choice for your ensemble’s meta-model**. It provides the lowest MAE and RMSE, making it a strong candidate for your predictive needs.\n"
   ]
  },
  {
   "cell_type": "code",
   "execution_count": 25,
   "metadata": {},
   "outputs": [
    {
     "data": {
      "image/png": "[encoded data removed]",
      "text/plain": [
       "<Figure size 1000x600 with 1 Axes>"
      ]
     },
     "metadata": {},
     "output_type": "display_data"
    },
    {
     "data": {
      "image/png": "[encoded data removed]",
      "text/plain": [
       "<Figure size 1000x600 with 1 Axes>"
      ]
     },
     "metadata": {},
     "output_type": "display_data"
    }
   ],
   "source": [
    "import matplotlib.pyplot as plt\n",
    "import seaborn as sns\n",
    "\n",
    "# Calculate residuals on the validation set\n",
    "residuals = y_validation - final_preds_rf  # final_preds_rf are the predictions from the Random Forest meta-model\n",
    "\n",
    "# Plot Histogram of Residuals\n",
    "plt.figure(figsize=(10, 6))\n",
    "sns.histplot(residuals, kde=True)\n",
    "plt.title(\"Distribution of Residuals\")\n",
    "plt.xlabel(\"Residuals (Actual - Predicted)\")\n",
    "plt.ylabel(\"Frequency\")\n",
    "plt.axvline(0, color='red', linestyle='--')\n",
    "plt.show()\n",
    "\n",
    "# Plot Residuals vs Predicted Values\n",
    "plt.figure(figsize=(10, 6))\n",
    "plt.scatter(final_preds_rf, residuals, alpha=0.6)\n",
    "plt.hlines(0, xmin=final_preds_rf.min(), xmax=final_preds_rf.max(), colors='red', linestyles='--')\n",
    "plt.title(\"Residuals vs Predicted Values\")\n",
    "plt.xlabel(\"Predicted Values\")\n",
    "plt.ylabel(\"Residuals\")\n",
    "plt.show()\n"
   ]
  },
  {
   "cell_type": "code",
   "execution_count": 11,
   "metadata": {},
   "outputs": [
    {
     "name": "stdout",
     "output_type": "stream",
     "text": [
      "Validation MAE: 3.122518549051937\n",
      "Validation RMSE: 16.716619574913047\n",
      "      product_type_no  colour_group_code  predicted_inventory_needs\n",
      "0                  -1                  6                     14.745\n",
      "1                  -1                  7                     26.080\n",
      "2                  -1                  8                      4.150\n",
      "3                  -1                  9                    330.760\n",
      "4                  -1                 10                    168.745\n",
      "...               ...                ...                        ...\n",
      "1208              529                 31                      3.930\n",
      "1209              529                 51                     11.500\n",
      "1210              529                 52                      3.015\n",
      "1211              529                 61                      5.530\n",
      "1212              532                  9                      3.665\n",
      "\n",
      "[1213 rows x 3 columns]\n"
     ]
    },
    {
     "name": "stderr",
     "output_type": "stream",
     "text": [
      "/var/folders/4d/qdk_qyjn1ng60t10crv82wj00000gn/T/ipykernel_80646/304248778.py:69: SettingWithCopyWarning: \n",
      "A value is trying to be set on a copy of a slice from a DataFrame.\n",
      "Try using .loc[row_indexer,col_indexer] = value instead\n",
      "\n",
      "See the caveats in the documentation: https://pandas.pydata.org/pandas-docs/stable/user_guide/indexing.html#returning-a-view-versus-a-copy\n",
      "  last_week_data['predicted_units_sold'] = final_preds\n",
      "/opt/miniconda3/lib/python3.12/site-packages/sklearn/metrics/_regression.py:492: FutureWarning: 'squared' is deprecated in version 1.4 and will be removed in 1.6. To calculate the root mean squared error, use the function'root_mean_squared_error'.\n",
      "  warnings.warn(\n"
     ]
    }
   ],
   "source": [
    "import numpy as np\n",
    "import pandas as pd\n",
    "from sklearn.ensemble import RandomForestRegressor\n",
    "from sklearn.linear_model import LinearRegression\n",
    "from sklearn.neural_network import MLPRegressor\n",
    "from sklearn.metrics import mean_absolute_error, mean_squared_error\n",
    "\n",
    "# Ensure 'week' is in datetime format without timezone\n",
    "data['week'] = pd.to_datetime(data['week']).dt.tz_localize(None)\n",
    "\n",
    "# Sort data by product type, color, and date to ensure proper lagging\n",
    "data = data.sort_values(by=['product_type_no', 'colour_group_code', 'week'])\n",
    "\n",
    "# Feature Engineering: Lagged Features\n",
    "data['lag_units_sold_1week'] = data.groupby(['product_type_no', 'colour_group_code'])['total_units_sold'].shift(1)\n",
    "data['lag_units_sold_2weeks'] = data.groupby(['product_type_no', 'colour_group_code'])['total_units_sold'].shift(2)\n",
    "data = data.dropna(subset=['lag_units_sold_1week', 'lag_units_sold_2weeks']).reset_index(drop=True)\n",
    "\n",
    "# Cyclic Encoding for Weeks\n",
    "data['week_of_year'] = data['week'].dt.isocalendar().week\n",
    "data['week_sin'] = np.sin(2 * np.pi * data['week_of_year'] / 52)\n",
    "data['week_cos'] = np.cos(2 * np.pi * data['week_of_year'] / 52)\n",
    "\n",
    "# Define the last week in the dataset and prepare training and validation sets\n",
    "latest_week = data['week'].max()\n",
    "train_data = data[data['week'] < latest_week]  # All data except the last week\n",
    "last_week_data = data[data['week'] == latest_week]  # The last week (validation)\n",
    "\n",
    "# Define feature columns\n",
    "feature_columns = ['product_type_no', 'colour_group_code', 'average_price', \n",
    "                   'lag_units_sold_1week', 'lag_units_sold_2weeks', 'week_sin', 'week_cos']\n",
    "\n",
    "X_train = train_data[feature_columns]\n",
    "y_train = train_data['total_units_sold']\n",
    "\n",
    "X_validation = last_week_data[feature_columns]\n",
    "y_validation = last_week_data['total_units_sold']\n",
    "\n",
    "# Initialize base models\n",
    "model_rf = RandomForestRegressor(n_estimators=200, max_depth=30, random_state=42)\n",
    "model_lr = LinearRegression()\n",
    "model_mlp = MLPRegressor(hidden_layer_sizes=(100,), max_iter=500, random_state=42)\n",
    "\n",
    "# Train each base model\n",
    "model_rf.fit(X_train, y_train)\n",
    "model_lr.fit(X_train, y_train)\n",
    "model_mlp.fit(X_train, y_train)\n",
    "\n",
    "# Generate predictions for the last week from each base model\n",
    "preds_rf = model_rf.predict(X_validation)\n",
    "preds_lr = model_lr.predict(X_validation)\n",
    "preds_mlp = model_mlp.predict(X_validation)\n",
    "\n",
    "# Combine base model predictions\n",
    "last_week_predictions_df = pd.DataFrame({\n",
    "    'RandomForest': preds_rf,\n",
    "    'LinearRegression': preds_lr,\n",
    "    'MLPRegressor': preds_mlp\n",
    "})\n",
    "\n",
    "# Use a meta-model (e.g., RandomForest) trained previously as the final model\n",
    "final_model_rf = RandomForestRegressor(n_estimators=200, max_depth=30, random_state=42)\n",
    "final_model_rf.fit(last_week_predictions_df, y_validation)  # Fit the meta-model with validation predictions\n",
    "\n",
    "# Predict inventory needs for the last week\n",
    "final_preds = final_model_rf.predict(last_week_predictions_df)\n",
    "\n",
    "# Add predictions to last week's data\n",
    "last_week_data['predicted_units_sold'] = final_preds\n",
    "\n",
    "# Calculate metrics for validation\n",
    "mae = mean_absolute_error(y_validation, final_preds)\n",
    "rmse = mean_squared_error(y_validation, final_preds, squared=False)\n",
    "print(\"Validation MAE:\", mae)\n",
    "print(\"Validation RMSE:\", rmse)\n",
    "\n",
    "# Aggregate inventory needs by product type and color for the last week\n",
    "inventory_needs = last_week_data.groupby(['product_type_no', 'colour_group_code'])['predicted_units_sold'].sum().reset_index()\n",
    "inventory_needs.columns = ['product_type_no', 'colour_group_code', 'predicted_inventory_needs']\n",
    "\n",
    "# Display inventory needs\n",
    "print(inventory_needs)\n"
   ]
  },
  {
   "cell_type": "code",
   "execution_count": 12,
   "metadata": {},
   "outputs": [],
   "source": [
    "# Extract unique mappings from data for product type and color group\n",
    "product_type_mapping = data[['product_type_no', 'product_type_name']].drop_duplicates()\n",
    "colour_group_mapping = data[['colour_group_code', 'colour_group_name']].drop_duplicates()\n"
   ]
  },
  {
   "cell_type": "code",
   "execution_count": 13,
   "metadata": {},
   "outputs": [],
   "source": [
    "# Merge product type names\n",
    "inventory_needs = inventory_needs.merge(product_type_mapping, on='product_type_no', how='left')\n",
    "\n",
    "# Merge colour group names\n",
    "inventory_needs = inventory_needs.merge(colour_group_mapping, on='colour_group_code', how='left')\n"
   ]
  },
  {
   "cell_type": "code",
   "execution_count": 14,
   "metadata": {},
   "outputs": [],
   "source": [
    "# Reorder columns for clarity\n",
    "inventory_needs = inventory_needs[['product_type_no', 'product_type_name', 'colour_group_code', 'colour_group_name', 'predicted_inventory_needs']]\n"
   ]
  },
  {
   "cell_type": "code",
   "execution_count": 15,
   "metadata": {},
   "outputs": [
    {
     "name": "stdout",
     "output_type": "stream",
     "text": [
      "      product_type_no product_type_name  colour_group_code colour_group_name  \\\n",
      "0                  -1           Unknown                  6        Light Grey   \n",
      "1                  -1           Unknown                  7              Grey   \n",
      "2                  -1           Unknown                  8         Dark Grey   \n",
      "3                  -1           Unknown                  9             Black   \n",
      "4                  -1           Unknown                 10             White   \n",
      "...               ...               ...                ...               ...   \n",
      "1208              529       Mobile case                 31      Light Orange   \n",
      "1209              529       Mobile case                 51        Light Pink   \n",
      "1210              529       Mobile case                 52              Pink   \n",
      "1211              529       Mobile case                 61      Light Purple   \n",
      "1212              532          Umbrella                  9             Black   \n",
      "\n",
      "      predicted_inventory_needs  \n",
      "0                        14.745  \n",
      "1                        26.080  \n",
      "2                         4.150  \n",
      "3                       330.760  \n",
      "4                       168.745  \n",
      "...                         ...  \n",
      "1208                      3.930  \n",
      "1209                     11.500  \n",
      "1210                      3.015  \n",
      "1211                      5.530  \n",
      "1212                      3.665  \n",
      "\n",
      "[1213 rows x 5 columns]\n"
     ]
    }
   ],
   "source": [
    "print(inventory_needs)\n"
   ]
  },
  {
   "cell_type": "code",
   "execution_count": 16,
   "metadata": {},
   "outputs": [
    {
     "name": "stdout",
     "output_type": "stream",
     "text": [
      "Inventory needs table successfully pushed to the database!\n"
     ]
    }
   ],
   "source": [
    "# Set up the schema if needed and push inventory_needs to PostgreSQL\n",
    "with engine.connect() as conn:\n",
    "    conn.execute(text(f'SET search_path TO {my_schema};'))\n",
    "    inventory_needs.to_sql('inventory_needs', con=engine, schema=my_schema, if_exists='replace', index=False)\n",
    "\n",
    "print(\"Inventory needs table successfully pushed to the database!\")\n"
   ]
  },
  {
   "cell_type": "code",
   "execution_count": 17,
   "metadata": {},
   "outputs": [
    {
     "name": "stdout",
     "output_type": "stream",
     "text": [
      "Total Predicted Inventory Needs: 57349.91499999999\n"
     ]
    }
   ],
   "source": [
    "# Calculate the total predicted inventory needs\n",
    "total_inventory_needs = inventory_needs['predicted_inventory_needs'].sum()\n",
    "print(\"Total Predicted Inventory Needs:\", total_inventory_needs)\n"
   ]
  },
  {
   "cell_type": "code",
   "execution_count": 18,
   "metadata": {},
   "outputs": [
    {
     "name": "stdout",
     "output_type": "stream",
     "text": [
      "count    1213.000000\n",
      "mean       47.279402\n",
      "std       172.949883\n",
      "min         1.000000\n",
      "25%         2.240000\n",
      "50%         7.160000\n",
      "75%        27.125000\n",
      "max      3034.665000\n",
      "Name: predicted_inventory_needs, dtype: float64\n"
     ]
    },
    {
     "data": {
      "image/png": "[encoded data removed]",
      "text/plain": [
       "<Figure size 640x480 with 1 Axes>"
      ]
     },
     "metadata": {},
     "output_type": "display_data"
    }
   ],
   "source": [
    "# Summary statistics of the predictions\n",
    "print(inventory_needs['predicted_inventory_needs'].describe())\n",
    "\n",
    "# Optional: Plot histogram to visually inspect the distribution\n",
    "import matplotlib.pyplot as plt\n",
    "\n",
    "plt.hist(inventory_needs['predicted_inventory_needs'], bins=30)\n",
    "plt.xlabel('Predicted Inventory Needs')\n",
    "plt.ylabel('Frequency')\n",
    "plt.title('Distribution of Predicted Inventory Needs')\n",
    "plt.show()\n"
   ]
  },
  {
   "cell_type": "code",
   "execution_count": 19,
   "metadata": {},
   "outputs": [
    {
     "name": "stdout",
     "output_type": "stream",
     "text": [
      "Actual Total Units Sold (Validation Week): 58177\n",
      "Predicted Total Inventory Needs (Validation Week): 57349.91499999999\n"
     ]
    }
   ],
   "source": [
    "# If you have actuals for the validation week:\n",
    "actual_total = y_validation.sum()\n",
    "predicted_total = inventory_needs['predicted_inventory_needs'].sum()\n",
    "print(\"Actual Total Units Sold (Validation Week):\", actual_total)\n",
    "print(\"Predicted Total Inventory Needs (Validation Week):\", predicted_total)\n"
   ]
  },
  {
   "cell_type": "code",
   "execution_count": 21,
   "metadata": {},
   "outputs": [],
   "source": [
    "# Calculate historical average units sold for each product type and color\n",
    "historical_avg = data.groupby(['product_type_no', 'colour_group_code'])['total_units_sold'].mean().reset_index()\n",
    "historical_avg.columns = ['product_type_no', 'colour_group_code', 'historical_avg_units_sold']\n"
   ]
  },
  {
   "cell_type": "code",
   "execution_count": 22,
   "metadata": {},
   "outputs": [],
   "source": [
    "# Merge historical averages with inventory_needs to compare predictions with historical data\n",
    "inventory_needs = inventory_needs.merge(historical_avg, on=['product_type_no', 'colour_group_code'], how='left')\n"
   ]
  },
  {
   "cell_type": "code",
   "execution_count": 23,
   "metadata": {},
   "outputs": [
    {
     "name": "stdout",
     "output_type": "stream",
     "text": [
      "Total Scaled Predicted Inventory Needs: 279460.37052368734\n"
     ]
    }
   ],
   "source": [
    "# Calculate a scaling factor based on total historical vs. total predicted\n",
    "historical_total = historical_avg['historical_avg_units_sold'].sum()\n",
    "predicted_total = inventory_needs['predicted_inventory_needs'].sum()\n",
    "scaling_factor = historical_total / predicted_total if predicted_total != 0 else 1\n",
    "\n",
    "# Apply scaling factor to predictions\n",
    "inventory_needs['scaled_predicted_inventory_needs'] = inventory_needs['predicted_inventory_needs'] * scaling_factor\n",
    "print(\"Total Scaled Predicted Inventory Needs:\", inventory_needs['scaled_predicted_inventory_needs'].sum())\n"
   ]
  }
 ],
 "metadata": {
  "kernelspec": {
   "display_name": "base",
   "language": "python",
   "name": "python3"
  },
  "language_info": {
   "codemirror_mode": {
    "name": "ipython",
    "version": 3
   },
   "file_extension": ".py",
   "mimetype": "text/x-python",
   "name": "python",
   "nbconvert_exporter": "python",
   "pygments_lexer": "ipython3",
   "version": "3.12.2"
  }
 },
 "nbformat": 4,
 "nbformat_minor": 2
}

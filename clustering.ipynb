{
 "cells": [
  {
   "cell_type": "code",
   "execution_count": null,
   "metadata": {},
   "outputs": [],
   "source": [
    "with engine.begin() as conn: \n",
    "    result = conn.execute(text(f'''\n",
    "                               SELECT * FROM product_analysis; \n",
    "                                '''))\n",
    "    data = result.all()\n",
    "\n",
    "### Let's create a dataframe out of that\n",
    "product_analysis = pd.DataFrame(data) \n",
    "product_analysis"
   ]
  },
  {
   "cell_type": "code",
   "execution_count": null,
   "metadata": {},
   "outputs": [],
   "source": [
    "# Aggregate data by product type and color group to summarize demand\n",
    "product_data = product_analysis.groupby(['product_type_no', 'colour_group_code', 'garment_group_no']).agg({\n",
    "    'units_sold': 'sum'  # Aggregated demand\n",
    "}).reset_index()"
   ]
  },
  {
   "cell_type": "code",
   "execution_count": null,
   "metadata": {},
   "outputs": [],
   "source": [
    "from sklearn.preprocessing import StandardScaler\n",
    "\n",
    "# Select features for scaling\n",
    "features = product_data[['units_sold', 'product_type_no', 'colour_group_code', 'garment_group_no']]\n",
    "scaler = StandardScaler()\n",
    "scaled_data = scaler.fit_transform(features)"
   ]
  },
  {
   "cell_type": "code",
   "execution_count": null,
   "metadata": {},
   "outputs": [],
   "source": [
    "import hdbscan\n",
    "\n",
    "# Initialize HDBSCAN with chosen parameters\n",
    "hdbscan_clusterer = hdbscan.HDBSCAN(min_samples=5, min_cluster_size=10)\n",
    "product_clusters = hdbscan_clusterer.fit_predict(scaled_data)\n",
    "\n",
    "# Add cluster labels back to the data\n",
    "product_data['cluster'] = product_clusters"
   ]
  },
  {
   "cell_type": "code",
   "execution_count": null,
   "metadata": {},
   "outputs": [],
   "source": [
    "import numpy as np\n",
    "\n",
    "# Display cluster distribution\n",
    "unique, counts = np.unique(product_clusters, return_counts=True)\n",
    "cluster_distribution = dict(zip(unique, counts))\n",
    "print(\"Cluster distribution:\", cluster_distribution)\n"
   ]
  },
  {
   "cell_type": "code",
   "execution_count": null,
   "metadata": {},
   "outputs": [],
   "source": [
    "# Summarize average demand and characteristics by cluster\n",
    "cluster_summary = product_data.groupby('cluster').mean()\n",
    "print(cluster_summary)"
   ]
  }
 ],
 "metadata": {
  "language_info": {
   "name": "python"
  }
 },
 "nbformat": 4,
 "nbformat_minor": 2
}
